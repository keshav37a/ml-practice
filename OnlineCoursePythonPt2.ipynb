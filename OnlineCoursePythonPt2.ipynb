{
 "cells": [
  {
   "cell_type": "code",
   "execution_count": 8,
   "metadata": {},
   "outputs": [
    {
     "name": "stdout",
     "output_type": "stream",
     "text": [
      "[1, 1, 2, 3, 4, 4, 12, 43, 232]\n",
      "[1, 2, 3, 4, 1, 12, 232, 4, 43]\n"
     ]
    }
   ],
   "source": [
    "l=[1,2,3,4,1,12,232,4,43]\n",
    "print(sorted(l))\n",
    "print(l)\n",
    "l = sorted(l)"
   ]
  },
  {
   "cell_type": "markdown",
   "metadata": {},
   "source": [
    "#### Read a list of numbers"
   ]
  },
  {
   "cell_type": "code",
   "execution_count": 20,
   "metadata": {},
   "outputs": [
    {
     "name": "stdout",
     "output_type": "stream",
     "text": [
      "3 4 5 6 888 9 0 6\n",
      "[3, 4, 5, 6, 888, 9, 0, 6]\n"
     ]
    }
   ],
   "source": [
    "numbers = [(int)(x) for x in input().split()]\n",
    "print(numbers)"
   ]
  },
  {
   "cell_type": "markdown",
   "metadata": {},
   "source": [
    "## Dictionaries"
   ]
  },
  {
   "cell_type": "code",
   "execution_count": 35,
   "metadata": {},
   "outputs": [
    {
     "name": "stdout",
     "output_type": "stream",
     "text": [
      "{'Mango': 100, 'Apple': 80}\n",
      "100\n",
      "{'Mango': 100, 'Apple': 80, 'Guava': 60}\n",
      "{'Mango': 100, 'Apple': 80, 'Guava': 60, 'Grape': [10, 20]}\n",
      "{'Mango': 100, 'Apple': 80, 'Guava': 60, 'Grape': [10, 20], 'Pineapple': {'small': 90, 'large': 140}}\n",
      "dict_keys(['Mango', 'Apple', 'Guava', 'Grape', 'Pineapple'])\n",
      "dict_values([100, 80, 60, [10, 20], {'small': 90, 'large': 140}])\n"
     ]
    }
   ],
   "source": [
    "d={\"Mango\":100, \"Apple\":80}\n",
    "print(d)\n",
    "print(d['Mango'])\n",
    "d['Guava']=60\n",
    "print(d)\n",
    "d['Grape'] = [10,20]\n",
    "print(d)\n",
    "d['Pineapple'] = {'small':90, 'large':140}\n",
    "print(d)\n",
    "print(d.keys())\n",
    "print(d.values())"
   ]
  },
  {
   "cell_type": "code",
   "execution_count": 38,
   "metadata": {},
   "outputs": [
    {
     "name": "stdout",
     "output_type": "stream",
     "text": [
      "100\n",
      "None\n"
     ]
    }
   ],
   "source": [
    "# print(d[\"Mangoes\"])\n",
    "print(d.get(\"Mango\"))\n",
    "print(d.get(\"Mangoes\"))"
   ]
  },
  {
   "cell_type": "code",
   "execution_count": 39,
   "metadata": {},
   "outputs": [
    {
     "name": "stdout",
     "output_type": "stream",
     "text": [
      "dict_items([('Mango', 100), ('Apple', 80), ('Guava', 60), ('Grape', [10, 20]), ('Pineapple', {'small': 90, 'large': 140})])\n"
     ]
    }
   ],
   "source": [
    "print(d.items())"
   ]
  },
  {
   "cell_type": "code",
   "execution_count": 40,
   "metadata": {},
   "outputs": [
    {
     "name": "stdout",
     "output_type": "stream",
     "text": [
      "[('Mango', 100), ('Apple', 80), ('Guava', 60), ('Grape', [10, 20]), ('Pineapple', {'small': 90, 'large': 140})]\n"
     ]
    }
   ],
   "source": [
    "print(list(d.items()))"
   ]
  },
  {
   "cell_type": "code",
   "execution_count": 44,
   "metadata": {},
   "outputs": [
    {
     "name": "stdout",
     "output_type": "stream",
     "text": [
      "{'Mango': 100, 'Apple': 80, 'Guava': 60, 'Grape': [10, 20], 'Pineapple': {'small': 90, 'large': 140}, 'Strawberry': 80}\n",
      "6\n"
     ]
    }
   ],
   "source": [
    "d2 = {\"Strawberry\":80}\n",
    "d.update(d2)\n",
    "print(d)\n",
    "print(len(d))"
   ]
  },
  {
   "cell_type": "code",
   "execution_count": 45,
   "metadata": {},
   "outputs": [
    {
     "name": "stdout",
     "output_type": "stream",
     "text": [
      "0\n"
     ]
    }
   ],
   "source": [
    "d.clear()\n",
    "print(len(d))"
   ]
  },
  {
   "cell_type": "code",
   "execution_count": 48,
   "metadata": {},
   "outputs": [
    {
     "name": "stdout",
     "output_type": "stream",
     "text": [
      "{'Apple': 34, 'Banana': 55, 'Guava': 78}\n"
     ]
    }
   ],
   "source": [
    "l1=[\"Apple\", \"Banana\", \"Guava\"]\n",
    "l2=[34,55,78]\n",
    "d=zip(l1,l2)\n",
    "p = dict(d)\n",
    "print(p)"
   ]
  },
  {
   "cell_type": "code",
   "execution_count": 49,
   "metadata": {},
   "outputs": [
    {
     "name": "stdout",
     "output_type": "stream",
     "text": [
      "Apple\n",
      "Banana\n",
      "Guava\n"
     ]
    }
   ],
   "source": [
    "for i in p:\n",
    "    print(i)"
   ]
  },
  {
   "cell_type": "code",
   "execution_count": 50,
   "metadata": {},
   "outputs": [
    {
     "name": "stdout",
     "output_type": "stream",
     "text": [
      "34\n",
      "55\n",
      "78\n"
     ]
    }
   ],
   "source": [
    "for i in p.values():\n",
    "    print(i)"
   ]
  },
  {
   "cell_type": "code",
   "execution_count": 52,
   "metadata": {},
   "outputs": [
    {
     "name": "stdout",
     "output_type": "stream",
     "text": [
      "('Apple', 34)\n",
      "('Banana', 55)\n",
      "('Guava', 78)\n"
     ]
    },
    {
     "data": {
      "text/plain": [
       "tuple"
      ]
     },
     "execution_count": 52,
     "metadata": {},
     "output_type": "execute_result"
    }
   ],
   "source": [
    "for i in p.items():\n",
    "    print(i)\n",
    "type(i)"
   ]
  },
  {
   "cell_type": "code",
   "execution_count": 63,
   "metadata": {},
   "outputs": [],
   "source": [
    "t=(1,2,3,'wdww','wewewewda')"
   ]
  },
  {
   "cell_type": "code",
   "execution_count": 85,
   "metadata": {},
   "outputs": [
    {
     "name": "stdout",
     "output_type": "stream",
     "text": [
      "(1, 2, 3, 'wdww', 'wewewewda', 1, 2, 3, 'wdww', 'wewewewda', 1, 2, 3, 'wdww', 'wewewewda', 1, 2, 3, 'wdww', 'wewewewda', 1, 2, 3, 'wdww', 'wewewewda', 1, 2, 3, 'wdww', 'wewewewda', 1, 2, 3, 'wdww', 'wewewewda', 1, 2, 3, 'wdww', 'wewewewda', 1, 2, 3, 'wdww', 'wewewewda', 1, 2, 3, 'wdww', 'wewewewda', 1, 2, 3, 'wdww', 'wewewewda', 1, 2, 3, 'wdww', 'wewewewda', 1, 2, 3, 'wdww', 'wewewewda', 1, 2, 3, 'wdww', 'wewewewda', 1, 2, 3, 'wdww', 'wewewewda', 1, 2, 3, 'wdww', 'wewewewda', 1, 2, 3, 'wdww', 'wewewewda', 1, 2, 3, 'wdww', 'wewewewda', 1, 2, 3, 'wdww', 'wewewewda', 1, 2, 3, 'wdww', 'wewewewda', 1, 2, 3, 'wdww', 'wewewewda', 1, 2, 3, 'wdww', 'wewewewda', 1, 2, 3, 'wdww', 'wewewewda', 1, 2, 3, 'wdww', 'wewewewda', 1, 2, 3, 'wdww', 'wewewewda', 1, 2, 3, 'wdww', 'wewewewda', 1, 2, 3, 'wdww', 'wewewewda', 1, 2, 3, 'wdww', 'wewewewda', 1, 2, 3, 'wdww', 'wewewewda', 1, 2, 3, 'wdww', 'wewewewda', 1, 2, 3, 'wdww', 'wewewewda', 1, 2, 3, 'wdww', 'wewewewda', 1, 2, 3, 'wdww', 'wewewewda', 1, 2, 3, 'wdww', 'wewewewda', 1, 2, 3, 'wdww', 'wewewewda', 1, 2, 3, 'wdww', 'wewewewda', 1, 2, 3, 'wdww', 'wewewewda', 1, 2, 3, 'wdww', 'wewewewda', 1, 2, 3, 'wdww', 'wewewewda', 1, 2, 3, 'wdww', 'wewewewda', 1, 2, 3, 'wdww', 'wewewewda', 1, 2, 3, 'wdww', 'wewewewda', 1, 2, 3, 'wdww', 'wewewewda', 1, 2, 3, 'wdww', 'wewewewda', 1, 2, 3, 'wdww', 'wewewewda', 1, 2, 3, 'wdww', 'wewewewda', 1, 2, 3, 'wdww', 'wewewewda', 1, 2, 3, 'wdww', 'wewewewda', 1, 2, 3, 'wdww', 'wewewewda', 1, 2, 3, 'wdww', 'wewewewda', 1, 2, 3, 'wdww', 'wewewewda', 1, 2, 3, 'wdww', 'wewewewda', 1, 2, 3, 'wdww', 'wewewewda', 1, 2, 3, 'wdww', 'wewewewda', 1, 2, 3, 'wdww', 'wewewewda', 1, 2, 3, 'wdww', 'wewewewda', 1, 2, 3, 'wdww', 'wewewewda', 1, 2, 3, 'wdww', 'wewewewda', 1, 2, 3, 'wdww', 'wewewewda', 1, 2, 3, 'wdww', 'wewewewda', 1, 2, 3, 'wdww', 'wewewewda', 1, 2, 3, 'wdww', 'wewewewda', 1, 2, 3, 'wdww', 'wewewewda', 1, 2, 3, 'wdww', 'wewewewda', 1, 2, 3, 'wdww', 'wewewewda', 1, 2, 3, 'wdww', 'wewewewda', 1, 2, 3, 'wdww', 'wewewewda', 1, 2, 3, 'wdww', 'wewewewda', 1, 2, 3, 'wdww', 'wewewewda', 1, 2, 3, 'wdww', 'wewewewda', 1, 2, 3, 'wdww', 'wewewewda', 1, 2, 3, 'wdww', 'wewewewda', 1, 2, 3, 'wdww', 'wewewewda', 1, 2, 3, 'wdww', 'wewewewda', 1, 2, 3, 'wdww', 'wewewewda', 1, 2, 3, 'wdww', 'wewewewda', 1, 2, 3, 'wdww', 'wewewewda', 1, 2, 3, 'wdww', 'wewewewda', 1, 2, 3, 'wdww', 'wewewewda', 1, 2, 3, 'wdww', 'wewewewda', 1, 2, 3, 'wdww', 'wewewewda', 1, 2, 3, 'wdww', 'wewewewda', 1, 2, 3, 'wdww', 'wewewewda', 1, 2, 3, 'wdww', 'wewewewda', 1, 2, 3, 'wdww', 'wewewewda', 1, 2, 3, 'wdww', 'wewewewda', 1, 2, 3, 'wdww', 'wewewewda', 1, 2, 3, 'wdww', 'wewewewda', 1, 2, 3, 'wdww', 'wewewewda', 1, 2, 3, 'wdww', 'wewewewda', 1, 2, 3, 'wdww', 'wewewewda', 1, 2, 3, 'wdww', 'wewewewda', 1, 2, 3, 'wdww', 'wewewewda', 1, 2, 3, 'wdww', 'wewewewda', 1, 2, 3, 'wdww', 'wewewewda', 1, 2, 3, 'wdww', 'wewewewda', 1, 2, 3, 'wdww', 'wewewewda', 1, 2, 3, 'wdww', 'wewewewda', 1, 2, 3, 'wdww', 'wewewewda', 1, 2, 3, 'wdww', 'wewewewda', 1, 2, 3, 'wdww', 'wewewewda', 1, 2, 3, 'wdww', 'wewewewda', 1, 2, 3, 'wdww', 'wewewewda', 1, 2, 3, 'wdww', 'wewewewda', 1, 2, 3, 'wdww', 'wewewewda', 1, 2, 3, 'wdww', 'wewewewda', 1, 2, 3, 'wdww', 'wewewewda', 1, 2, 3, 'wdww', 'wewewewda', 1, 2, 3, 'wdww', 'wewewewda', 1, 2, 3, 'wdww', 'wewewewda', 1, 2, 3, 'wdww', 'wewewewda', 1, 2, 3, 'wdww', 'wewewewda', 1, 2, 3, 'wdww', 'wewewewda', 1, 2, 3, 'wdww', 'wewewewda', 1, 2, 3, 'wdww', 'wewewewda', 1, 2, 3, 'wdww', 'wewewewda', 1, 2, 3, 'wdww', 'wewewewda', 1, 2, 3, 'wdww', 'wewewewda', 1, 2, 3, 'wdww', 'wewewewda', 1, 2, 3, 'wdww', 'wewewewda', 1, 2, 3, 'wdww', 'wewewewda', 1, 2, 3, 'wdww', 'wewewewda', 1, 2, 3, 'wdww', 'wewewewda', 1, 2, 3, 'wdww', 'wewewewda', 1, 2, 3, 'wdww', 'wewewewda', 1, 2, 3, 'wdww', 'wewewewda', 1, 2, 3, 'wdww', 'wewewewda', 1, 2, 3, 'wdww', 'wewewewda', 1, 2, 3, 'wdww', 'wewewewda', 1, 2, 3, 'wdww', 'wewewewda', 1, 2, 3, 'wdww', 'wewewewda', 1, 2, 3, 'wdww', 'wewewewda', 1, 2, 3, 'wdww', 'wewewewda', 1, 2, 3, 'wdww', 'wewewewda', 1, 2, 3, 'wdww', 'wewewewda', 1, 2, 3, 'wdww', 'wewewewda', 1, 2, 3, 'wdww', 'wewewewda', 1, 2, 3, 'wdww', 'wewewewda', 1, 2, 3, 'wdww', 'wewewewda', 1, 2, 3, 'wdww', 'wewewewda', 1, 2, 3, 'wdww', 'wewewewda', 1, 2, 3, 'wdww', 'wewewewda', 1, 2, 3, 'wdww', 'wewewewda', 1, 2, 3, 'wdww', 'wewewewda', 1, 2, 3, 'wdww', 'wewewewda', 1, 2, 3, 'wdww', 'wewewewda', 1, 2, 3, 'wdww', 'wewewewda', 1, 2, 3, 'wdww', 'wewewewda', 1, 2, 3, 'wdww', 'wewewewda', 1, 2, 3, 'wdww', 'wewewewda', 1, 2, 3, 'wdww', 'wewewewda', 1, 2, 3, 'wdww', 'wewewewda', 1, 2, 3, 'wdww', 'wewewewda', 1, 2, 3, 'wdww', 'wewewewda', 1, 2, 3, 'wdww', 'wewewewda', 1, 2, 3, 'wdww', 'wewewewda', 1, 2, 3, 'wdww', 'wewewewda', 1, 2, 3, 'wdww', 'wewewewda', 1, 2, 3, 'wdww', 'wewewewda', 1, 2, 3, 'wdww', 'wewewewda', 1, 2, 3, 'wdww', 'wewewewda', 1, 2, 3, 'wdww', 'wewewewda', 1, 2, 3, 'wdww', 'wewewewda', 1, 2, 3, 'wdww', 'wewewewda', 1, 2, 3, 'wdww', 'wewewewda', 1, 2, 3, 'wdww', 'wewewewda', 1, 2, 3, 'wdww', 'wewewewda', 1, 2, 3, 'wdww', 'wewewewda', 1, 2, 3, 'wdww', 'wewewewda', 1, 2, 3, 'wdww', 'wewewewda', 1, 2, 3, 'wdww', 'wewewewda', 1, 2, 3, 'wdww', 'wewewewda', 1, 2, 3, 'wdww', 'wewewewda', 1, 2, 3, 'wdww', 'wewewewda', 1, 2, 3, 'wdww', 'wewewewda', 1, 2, 3, 'wdww', 'wewewewda', 1, 2, 3, 'wdww', 'wewewewda', 1, 2, 3, 'wdww', 'wewewewda', 1, 2, 3, 'wdww', 'wewewewda', 1, 2, 3, 'wdww', 'wewewewda', 1, 2, 3, 'wdww', 'wewewewda', 1, 2, 3, 'wdww', 'wewewewda', 1, 2, 3, 'wdww', 'wewewewda', 1, 2, 3, 'wdww', 'wewewewda', 1, 2, 3, 'wdww', 'wewewewda', 1, 2, 3, 'wdww', 'wewewewda', 1, 2, 3, 'wdww', 'wewewewda', 1, 2, 3, 'wdww', 'wewewewda', 1, 2, 3, 'wdww', 'wewewewda', 1, 2, 3, 'wdww', 'wewewewda', 1, 2, 3, 'wdww', 'wewewewda', 1, 2, 3, 'wdww', 'wewewewda', 1, 2, 3, 'wdww', 'wewewewda', 1, 2, 3, 'wdww', 'wewewewda', 1, 2, 3, 'wdww', 'wewewewda', 1, 2, 3, 'wdww', 'wewewewda', 1, 2, 3, 'wdww', 'wewewewda', 1, 2, 3, 'wdww', 'wewewewda', 1, 2, 3, 'wdww', 'wewewewda', 1, 2, 3, 'wdww', 'wewewewda', 1, 2, 3, 'wdww', 'wewewewda', 1, 2, 3, 'wdww', 'wewewewda', 1, 2, 3, 'wdww', 'wewewewda', 1, 2, 3, 'wdww', 'wewewewda', 1, 2, 3, 'wdww', 'wewewewda', 1, 2, 3, 'wdww', 'wewewewda', 1, 2, 3, 'wdww', 'wewewewda', 1, 2, 3, 'wdww', 'wewewewda', 1, 2, 3, 'wdww', 'wewewewda', 1, 2, 3, 'wdww', 'wewewewda', 1, 2, 3, 'wdww', 'wewewewda', 1, 2, 3, 'wdww', 'wewewewda', 1, 2, 3, 'wdww', 'wewewewda', 1, 2, 3, 'wdww', 'wewewewda', 1, 2, 3, 'wdww', 'wewewewda', 1, 2, 3, 'wdww', 'wewewewda', 1, 2, 3, 'wdww', 'wewewewda', 1, 2, 3, 'wdww', 'wewewewda', 1, 2, 3, 'wdww', 'wewewewda', 1, 2, 3, 'wdww', 'wewewewda', 1, 2, 3, 'wdww', 'wewewewda', 1, 2, 3, 'wdww', 'wewewewda', 1, 2, 3, 'wdww', 'wewewewda', 1, 2, 3, 'wdww', 'wewewewda', 1, 2, 3, 'wdww', 'wewewewda', 1, 2, 3, 'wdww', 'wewewewda', 1, 2, 3, 'wdww', 'wewewewda', 1, 2, 3, 'wdww', 'wewewewda', 1, 2, 3, 'wdww', 'wewewewda', 1, 2, 3, 'wdww', 'wewewewda', 1, 2, 3, 'wdww', 'wewewewda', 1, 2, 3, 'wdww', 'wewewewda', 1, 2, 3, 'wdww', 'wewewewda', 1, 2, 3, 'wdww', 'wewewewda', 1, 2, 3, 'wdww', 'wewewewda', 1, 2, 3, 'wdww', 'wewewewda', 1, 2, 3, 'wdww', 'wewewewda', 1, 2, 3, 'wdww', 'wewewewda', 1, 2, 3, 'wdww', 'wewewewda', 1, 2, 3, 'wdww', 'wewewewda', 1, 2, 3, 'wdww', 'wewewewda', 1, 2, 3, 'wdww', 'wewewewda', 1, 2, 3, 'wdww', 'wewewewda', 1, 2, 3, 'wdww', 'wewewewda', 1, 2, 3, 'wdww', 'wewewewda', 1, 2, 3, 'wdww', 'wewewewda', 1, 2, 3, 'wdww', 'wewewewda', 1, 2, 3, 'wdww', 'wewewewda', 1, 2, 3, 'wdww', 'wewewewda', 1, 2, 3, 'wdww', 'wewewewda', 1, 2, 3, 'wdww', 'wewewewda', 1, 2, 3, 'wdww', 'wewewewda', 1, 2, 3, 'wdww', 'wewewewda', 1, 2, 3, 'wdww', 'wewewewda', 1, 2, 3, 'wdww', 'wewewewda', 1, 2, 3, 'wdww', 'wewewewda', 1, 2, 3, 'wdww', 'wewewewda', 1, 2, 3, 'wdww', 'wewewewda', 1, 2, 3, 'wdww', 'wewewewda', 1, 2, 3, 'wdww', 'wewewewda', 1, 2, 3, 'wdww', 'wewewewda', 1, 2, 3, 'wdww', 'wewewewda', 1, 2, 3, 'wdww', 'wewewewda', 1, 2, 3, 'wdww', 'wewewewda', 1, 2, 3, 'wdww', 'wewewewda', 1, 2, 3, 'wdww', 'wewewewda', 1, 2, 3, 'wdww', 'wewewewda', 1, 2, 3, 'wdww', 'wewewewda', 1, 2, 3, 'wdww', 'wewewewda', 1, 2, 3, 'wdww', 'wewewewda', 1, 2, 3, 'wdww', 'wewewewda', 1, 2, 3, 'wdww', 'wewewewda', 1, 2, 3, 'wdww', 'wewewewda', 1, 2, 3, 'wdww', 'wewewewda', 1, 2, 3, 'wdww', 'wewewewda', 1, 2, 3, 'wdww', 'wewewewda', 1, 2, 3, 'wdww', 'wewewewda', 1, 2, 3, 'wdww', 'wewewewda', 1, 2, 3, 'wdww', 'wewewewda', 1, 2, 3, 'wdww', 'wewewewda', 1, 2, 3, 'wdww', 'wewewewda', 1, 2, 3, 'wdww', 'wewewewda', 1, 2, 3, 'wdww', 'wewewewda', 1, 2, 3, 'wdww', 'wewewewda', 1, 2, 3, 'wdww', 'wewewewda', 1, 2, 3, 'wdww', 'wewewewda', 1, 2, 3, 'wdww', 'wewewewda', 1, 2, 3, 'wdww', 'wewewewda', 1, 2, 3, 'wdww', 'wewewewda', 1, 2, 3, 'wdww', 'wewewewda', 1, 2, 3, 'wdww', 'wewewewda', 1, 2, 3, 'wdww', 'wewewewda', 1, 2, 3, 'wdww', 'wewewewda', 1, 2, 3, 'wdww', 'wewewewda', 1, 2, 3, 'wdww', 'wewewewda', 1, 2, 3, 'wdww', 'wewewewda', 1, 2, 3, 'wdww', 'wewewewda', 1, 2, 3, 'wdww', 'wewewewda', 1, 2, 3, 'wdww', 'wewewewda', 1, 2, 3, 'wdww', 'wewewewda', 1, 2, 3, 'wdww', 'wewewewda', 1, 2, 3, 'wdww', 'wewewewda', 1, 2, 3, 'wdww', 'wewewewda', 1, 2, 3, 'wdww', 'wewewewda', 1, 2, 3, 'wdww', 'wewewewda', 1, 2, 3, 'wdww', 'wewewewda', 1, 2, 3, 'wdww', 'wewewewda', 1, 2, 3, 'wdww', 'wewewewda', 1, 2, 3, 'wdww', 'wewewewda', 1, 2, 3, 'wdww', 'wewewewda', 1, 2, 3, 'wdww', 'wewewewda', 1, 2, 3, 'wdww', 'wewewewda', 1, 2, 3, 'wdww', 'wewewewda', 1, 2, 3, 'wdww', 'wewewewda', 1, 2, 3, 'wdww', 'wewewewda', 1, 2, 3, 'wdww', 'wewewewda', 1, 2, 3, 'wdww', 'wewewewda', 1, 2, 3, 'wdww', 'wewewewda', 1, 2, 3, 'wdww', 'wewewewda', 1, 2, 3, 'wdww', 'wewewewda', 1, 2, 3, 'wdww', 'wewewewda', 1, 2, 3, 'wdww', 'wewewewda', 1, 2, 3, 'wdww', 'wewewewda', 1, 2, 3, 'wdww', 'wewewewda', 1, 2, 3, 'wdww', 'wewewewda', 1, 2, 3, 'wdww', 'wewewewda', 1, 2, 3, 'wdww', 'wewewewda', 1, 2, 3, 'wdww', 'wewewewda', 1, 2, 3, 'wdww', 'wewewewda', 1, 2, 3, 'wdww', 'wewewewda', 1, 2, 3, 'wdww', 'wewewewda', 1, 2, 3, 'wdww', 'wewewewda', 1, 2, 3, 'wdww', 'wewewewda', 1, 2, 3, 'wdww', 'wewewewda', 1, 2, 3, 'wdww', 'wewewewda', 1, 2, 3, 'wdww', 'wewewewda', 1, 2, 3, 'wdww', 'wewewewda', 1, 2, 3, 'wdww', 'wewewewda', 1, 2, 3, 'wdww', 'wewewewda', 1, 2, 3, 'wdww', 'wewewewda', 1, 2, 3, 'wdww', 'wewewewda', 1, 2, 3, 'wdww', 'wewewewda', 1, 2, 3, 'wdww', 'wewewewda', 1, 2, 3, 'wdww', 'wewewewda', 1, 2, 3, 'wdww', 'wewewewda', 1, 2, 3, 'wdww', 'wewewewda', 1, 2, 3, 'wdww', 'wewewewda', 1, 2, 3, 'wdww', 'wewewewda', 1, 2, 3, 'wdww', 'wewewewda', 1, 2, 3, 'wdww', 'wewewewda', 1, 2, 3, 'wdww', 'wewewewda', 1, 2, 3, 'wdww', 'wewewewda', 1, 2, 3, 'wdww', 'wewewewda', 1, 2, 3, 'wdww', 'wewewewda', 1, 2, 3, 'wdww', 'wewewewda', 1, 2, 3, 'wdww', 'wewewewda', 1, 2, 3, 'wdww', 'wewewewda', 1, 2, 3, 'wdww', 'wewewewda', 1, 2, 3, 'wdww', 'wewewewda', 1, 2, 3, 'wdww', 'wewewewda', 1, 2, 3, 'wdww', 'wewewewda', 1, 2, 3, 'wdww', 'wewewewda', 1, 2, 3, 'wdww', 'wewewewda', 1, 2, 3, 'wdww', 'wewewewda', 1, 2, 3, 'wdww', 'wewewewda', 1, 2, 3, 'wdww', 'wewewewda', 1, 2, 3, 'wdww', 'wewewewda', 1, 2, 3, 'wdww', 'wewewewda', 1, 2, 3, 'wdww', 'wewewewda', 1, 2, 3, 'wdww', 'wewewewda', 1, 2, 3, 'wdww', 'wewewewda', 1, 2, 3, 'wdww', 'wewewewda', 1, 2, 3, 'wdww', 'wewewewda', 1, 2, 3, 'wdww', 'wewewewda', 1, 2, 3, 'wdww', 'wewewewda', 1, 2, 3, 'wdww', 'wewewewda', 1, 2, 3, 'wdww', 'wewewewda', 1, 2, 3, 'wdww', 'wewewewda', 1, 2, 3, 'wdww', 'wewewewda', 1, 2, 3, 'wdww', 'wewewewda', 1, 2, 3, 'wdww', 'wewewewda', 1, 2, 3, 'wdww', 'wewewewda', 1, 2, 3, 'wdww', 'wewewewda', 1, 2, 3, 'wdww', 'wewewewda', 1, 2, 3, 'wdww', 'wewewewda', 1, 2, 3, 'wdww', 'wewewewda', 1, 2, 3, 'wdww', 'wewewewda', 1, 2, 3, 'wdww', 'wewewewda', 1, 2, 3, 'wdww', 'wewewewda', 1, 2, 3, 'wdww', 'wewewewda', 1, 2, 3, 'wdww', 'wewewewda', 1, 2, 3, 'wdww', 'wewewewda', 1, 2, 3, 'wdww', 'wewewewda', 1, 2, 3, 'wdww', 'wewewewda', 1, 2, 3, 'wdww', 'wewewewda', 1, 2, 3, 'wdww', 'wewewewda', 1, 2, 3, 'wdww', 'wewewewda', 1, 2, 3, 'wdww', 'wewewewda', 1, 2, 3, 'wdww', 'wewewewda', 1, 2, 3, 'wdww', 'wewewewda', 1, 2, 3, 'wdww', 'wewewewda', 1, 2, 3, 'wdww', 'wewewewda', 1, 2, 3, 'wdww', 'wewewewda', 1, 2, 3, 'wdww', 'wewewewda', 1, 2, 3, 'wdww', 'wewewewda', 1, 2, 3, 'wdww', 'wewewewda', 1, 2, 3, 'wdww', 'wewewewda', 1, 2, 3, 'wdww', 'wewewewda', 1, 2, 3, 'wdww', 'wewewewda', 1, 2, 3, 'wdww', 'wewewewda', 1, 2, 3, 'wdww', 'wewewewda', 1, 2, 3, 'wdww', 'wewewewda', 1, 2, 3, 'wdww', 'wewewewda', 1, 2, 3, 'wdww', 'wewewewda', 1, 2, 3, 'wdww', 'wewewewda', 1, 2, 3, 'wdww', 'wewewewda', 1, 2, 3, 'wdww', 'wewewewda', 1, 2, 3, 'wdww', 'wewewewda', 1, 2, 3, 'wdww', 'wewewewda', 1, 2, 3, 'wdww', 'wewewewda', 1, 2, 3, 'wdww', 'wewewewda', 1, 2, 3, 'wdww', 'wewewewda', 1, 2, 3, 'wdww', 'wewewewda', 1, 2, 3, 'wdww', 'wewewewda', 1, 2, 3, 'wdww', 'wewewewda', 1, 2, 3, 'wdww', 'wewewewda', 1, 2, 3, 'wdww', 'wewewewda', 1, 2, 3, 'wdww', 'wewewewda', 1, 2, 3, 'wdww', 'wewewewda', 1, 2, 3, 'wdww', 'wewewewda', 1, 2, 3, 'wdww', 'wewewewda', 1, 2, 3, 'wdww', 'wewewewda', 1, 2, 3, 'wdww', 'wewewewda', 1, 2, 3, 'wdww', 'wewewewda', 1, 2, 3, 'wdww', 'wewewewda', 1, 2, 3, 'wdww', 'wewewewda', 1, 2, 3, 'wdww', 'wewewewda', 1, 2, 3, 'wdww', 'wewewewda', 1, 2, 3, 'wdww', 'wewewewda', 1, 2, 3, 'wdww', 'wewewewda', 1, 2, 3, 'wdww', 'wewewewda', 1, 2, 3, 'wdww', 'wewewewda', 1, 2, 3, 'wdww', 'wewewewda', 1, 2, 3, 'wdww', 'wewewewda', 1, 2, 3, 'wdww', 'wewewewda', 1, 2, 3, 'wdww', 'wewewewda', 1, 2, 3, 'wdww', 'wewewewda', 1, 2, 3, 'wdww', 'wewewewda', 1, 2, 3, 'wdww', 'wewewewda', 1, 2, 3, 'wdww', 'wewewewda', 1, 2, 3, 'wdww', 'wewewewda', 1, 2, 3, 'wdww', 'wewewewda', 1, 2, 3, 'wdww', 'wewewewda', 1, 2, 3, 'wdww', 'wewewewda', 1, 2, 3, 'wdww', 'wewewewda', 1, 2, 3, 'wdww', 'wewewewda', 1, 2, 3, 'wdww', 'wewewewda', 1, 2, 3, 'wdww', 'wewewewda', 1, 2, 3, 'wdww', 'wewewewda', 1, 2, 3, 'wdww', 'wewewewda', 1, 2, 3, 'wdww', 'wewewewda', 1, 2, 3, 'wdww', 'wewewewda', 1, 2, 3, 'wdww', 'wewewewda', 1, 2, 3, 'wdww', 'wewewewda', 1, 2, 3, 'wdww', 'wewewewda', 1, 2, 3, 'wdww', 'wewewewda', 1, 2, 3, 'wdww', 'wewewewda', 1, 2, 3, 'wdww', 'wewewewda', 1, 2, 3, 'wdww', 'wewewewda', 1, 2, 3, 'wdww', 'wewewewda', 1, 2, 3, 'wdww', 'wewewewda', 1, 2, 3, 'wdww', 'wewewewda', 1, 2, 3, 'wdww', 'wewewewda', 1, 2, 3, 'wdww', 'wewewewda', 1, 2, 3, 'wdww', 'wewewewda', 1, 2, 3, 'wdww', 'wewewewda', 1, 2, 3, 'wdww', 'wewewewda', 1, 2, 3, 'wdww', 'wewewewda', 1, 2, 3, 'wdww', 'wewewewda', 1, 2, 3, 'wdww', 'wewewewda', 1, 2, 3, 'wdww', 'wewewewda', 1, 2, 3, 'wdww', 'wewewewda', 1, 2, 3, 'wdww', 'wewewewda', 1, 2, 3, 'wdww', 'wewewewda', 1, 2, 3, 'wdww', 'wewewewda', 1, 2, 3, 'wdww', 'wewewewda', 1, 2, 3, 'wdww', 'wewewewda', 1, 2, 3, 'wdww', 'wewewewda', 1, 2, 3, 'wdww', 'wewewewda', 1, 2, 3, 'wdww', 'wewewewda', 1, 2, 3, 'wdww', 'wewewewda', 1, 2, 3, 'wdww', 'wewewewda', 1, 2, 3, 'wdww', 'wewewewda', 1, 2, 3, 'wdww', 'wewewewda', 1, 2, 3, 'wdww', 'wewewewda', 1, 2, 3, 'wdww', 'wewewewda', 1, 2, 3, 'wdww', 'wewewewda', 1, 2, 3, 'wdww', 'wewewewda', 1, 2, 3, 'wdww', 'wewewewda', 1, 2, 3, 'wdww', 'wewewewda', 1, 2, 3, 'wdww', 'wewewewda', 1, 2, 3, 'wdww', 'wewewewda', 1, 2, 3, 'wdww', 'wewewewda', 1, 2, 3, 'wdww', 'wewewewda', 1, 2, 3, 'wdww', 'wewewewda', 1, 2, 3, 'wdww', 'wewewewda', 1, 2, 3, 'wdww', 'wewewewda', 1, 2, 3, 'wdww', 'wewewewda', 1, 2, 3, 'wdww', 'wewewewda', 1, 2, 3, 'wdww', 'wewewewda', 1, 2, 3, 'wdww', 'wewewewda', 1, 2, 3, 'wdww', 'wewewewda', 1, 2, 3, 'wdww', 'wewewewda', 1, 2, 3, 'wdww', 'wewewewda', 1, 2, 3, 'wdww', 'wewewewda', 1, 2, 3, 'wdww', 'wewewewda', 1, 2, 3, 'wdww', 'wewewewda', 1, 2, 3, 'wdww', 'wewewewda', 1, 2, 3, 'wdww', 'wewewewda', 1, 2, 3, 'wdww', 'wewewewda', 1, 2, 3, 'wdww', 'wewewewda', 1, 2, 3, 'wdww', 'wewewewda', 1, 2, 3, 'wdww', 'wewewewda', 1, 2, 3, 'wdww', 'wewewewda', 1, 2, 3, 'wdww', 'wewewewda', 1, 2, 3, 'wdww', 'wewewewda', 1, 2, 3, 'wdww', 'wewewewda', 1, 2, 3, 'wdww', 'wewewewda', 1, 2, 3, 'wdww', 'wewewewda', 1, 2, 3, 'wdww', 'wewewewda', 1, 2, 3, 'wdww', 'wewewewda', 1, 2, 3, 'wdww', 'wewewewda', 1, 2, 3, 'wdww', 'wewewewda', 1, 2, 3, 'wdww', 'wewewewda', 1, 2, 3, 'wdww', 'wewewewda', 1, 2, 3, 'wdww', 'wewewewda', 1, 2, 3, 'wdww', 'wewewewda', 1, 2, 3, 'wdww', 'wewewewda', 1, 2, 3, 'wdww', 'wewewewda', 1, 2, 3, 'wdww', 'wewewewda', 1, 2, 3, 'wdww', 'wewewewda', 1, 2, 3, 'wdww', 'wewewewda', 1, 2, 3, 'wdww', 'wewewewda', 1, 2, 3, 'wdww', 'wewewewda', 1, 2, 3, 'wdww', 'wewewewda', 1, 2, 3, 'wdww', 'wewewewda', 1, 2, 3, 'wdww', 'wewewewda', 1, 2, 3, 'wdww', 'wewewewda', 1, 2, 3, 'wdww', 'wewewewda', 1, 2, 3, 'wdww', 'wewewewda', 1, 2, 3, 'wdww', 'wewewewda', 1, 2, 3, 'wdww', 'wewewewda', 1, 2, 3, 'wdww', 'wewewewda', 1, 2, 3, 'wdww', 'wewewewda', 1, 2, 3, 'wdww', 'wewewewda', 1, 2, 3, 'wdww', 'wewewewda', 1, 2, 3, 'wdww', 'wewewewda', 1, 2, 3, 'wdww', 'wewewewda', 1, 2, 3, 'wdww', 'wewewewda', 1, 2, 3, 'wdww', 'wewewewda', 1, 2, 3, 'wdww', 'wewewewda', 1, 2, 3, 'wdww', 'wewewewda', 1, 2, 3, 'wdww', 'wewewewda', 1, 2, 3, 'wdww', 'wewewewda', 1, 2, 3, 'wdww', 'wewewewda', 1, 2, 3, 'wdww', 'wewewewda', 1, 2, 3, 'wdww', 'wewewewda', 1, 2, 3, 'wdww', 'wewewewda', 1, 2, 3, 'wdww', 'wewewewda', 1, 2, 3, 'wdww', 'wewewewda', 1, 2, 3, 'wdww', 'wewewewda', 1, 2, 3, 'wdww', 'wewewewda', 1, 2, 3, 'wdww', 'wewewewda', 1, 2, 3, 'wdww', 'wewewewda', 1, 2, 3, 'wdww', 'wewewewda', 1, 2, 3, 'wdww', 'wewewewda', 1, 2, 3, 'wdww', 'wewewewda', 1, 2, 3, 'wdww', 'wewewewda', 1, 2, 3, 'wdww', 'wewewewda', 1, 2, 3, 'wdww', 'wewewewda', 1, 2, 3, 'wdww', 'wewewewda', 1, 2, 3, 'wdww', 'wewewewda', 1, 2, 3, 'wdww', 'wewewewda', 1, 2, 3, 'wdww', 'wewewewda', 1, 2, 3, 'wdww', 'wewewewda', 1, 2, 3, 'wdww', 'wewewewda', 1, 2, 3, 'wdww', 'wewewewda', 1, 2, 3, 'wdww', 'wewewewda', 1, 2, 3, 'wdww', 'wewewewda', 1, 2, 3, 'wdww', 'wewewewda', 1, 2, 3, 'wdww', 'wewewewda', 1, 2, 3, 'wdww', 'wewewewda', 1, 2, 3, 'wdww', 'wewewewda', 1, 2, 3, 'wdww', 'wewewewda', 1, 2, 3, 'wdww', 'wewewewda', 1, 2, 3, 'wdww', 'wewewewda', 1, 2, 3, 'wdww', 'wewewewda', 1, 2, 3, 'wdww', 'wewewewda', 1, 2, 3, 'wdww', 'wewewewda', 1, 2, 3, 'wdww', 'wewewewda', 1, 2, 3, 'wdww', 'wewewewda', 1, 2, 3, 'wdww', 'wewewewda', 1, 2, 3, 'wdww', 'wewewewda', 1, 2, 3, 'wdww', 'wewewewda', 1, 2, 3, 'wdww', 'wewewewda', 1, 2, 3, 'wdww', 'wewewewda', 1, 2, 3, 'wdww', 'wewewewda', 1, 2, 3, 'wdww', 'wewewewda', 1, 2, 3, 'wdww', 'wewewewda', 1, 2, 3, 'wdww', 'wewewewda', 1, 2, 3, 'wdww', 'wewewewda', 1, 2, 3, 'wdww', 'wewewewda', 1, 2, 3, 'wdww', 'wewewewda', 1, 2, 3, 'wdww', 'wewewewda', 1, 2, 3, 'wdww', 'wewewewda', 1, 2, 3, 'wdww', 'wewewewda', 1, 2, 3, 'wdww', 'wewewewda', 1, 2, 3, 'wdww', 'wewewewda', 1, 2, 3, 'wdww', 'wewewewda', 1, 2, 3, 'wdww', 'wewewewda', 1, 2, 3, 'wdww', 'wewewewda', 1, 2, 3, 'wdww', 'wewewewda', 1, 2, 3, 'wdww', 'wewewewda', 1, 2, 3, 'wdww', 'wewewewda', 1, 2, 3, 'wdww', 'wewewewda', 1, 2, 3, 'wdww', 'wewewewda', 1, 2, 3, 'wdww', 'wewewewda', 1, 2, 3, 'wdww', 'wewewewda', 1, 2, 3, 'wdww', 'wewewewda', 1, 2, 3, 'wdww', 'wewewewda', 1, 2, 3, 'wdww', 'wewewewda', 1, 2, 3, 'wdww', 'wewewewda', 1, 2, 3, 'wdww', 'wewewewda', 1, 2, 3, 'wdww', 'wewewewda', 1, 2, 3, 'wdww', 'wewewewda', 1, 2, 3, 'wdww', 'wewewewda', 1, 2, 3, 'wdww', 'wewewewda', 1, 2, 3, 'wdww', 'wewewewda', 1, 2, 3, 'wdww', 'wewewewda', 1, 2, 3, 'wdww', 'wewewewda', 1, 2, 3, 'wdww', 'wewewewda', 1, 2, 3, 'wdww', 'wewewewda', 1, 2, 3, 'wdww', 'wewewewda', 1, 2, 3, 'wdww', 'wewewewda', 1, 2, 3, 'wdww', 'wewewewda', 1, 2, 3, 'wdww', 'wewewewda', 1, 2, 3, 'wdww', 'wewewewda', 1, 2, 3, 'wdww', 'wewewewda', 1, 2, 3, 'wdww', 'wewewewda', 1, 2, 3, 'wdww', 'wewewewda', 1, 2, 3, 'wdww', 'wewewewda', 1, 2, 3, 'wdww', 'wewewewda', 1, 2, 3, 'wdww', 'wewewewda', 1, 2, 3, 'wdww', 'wewewewda', 1, 2, 3, 'wdww', 'wewewewda', 1, 2, 3, 'wdww', 'wewewewda', 1, 2, 3, 'wdww', 'wewewewda', 1, 2, 3, 'wdww', 'wewewewda', 1, 2, 3, 'wdww', 'wewewewda', 1, 2, 3, 'wdww', 'wewewewda', 1, 2, 3, 'wdww', 'wewewewda', 1, 2, 3, 'wdww', 'wewewewda', 1, 2, 3, 'wdww', 'wewewewda', 1, 2, 3, 'wdww', 'wewewewda', 1, 2, 3, 'wdww', 'wewewewda', 1, 2, 3, 'wdww', 'wewewewda', 1, 2, 3, 'wdww', 'wewewewda', 1, 2, 3, 'wdww', 'wewewewda', 1, 2, 3, 'wdww', 'wewewewda', 1, 2, 3, 'wdww', 'wewewewda', 1, 2, 3, 'wdww', 'wewewewda', 1, 2, 3, 'wdww', 'wewewewda', 1, 2, 3, 'wdww', 'wewewewda', 1, 2, 3, 'wdww', 'wewewewda', 1, 2, 3, 'wdww', 'wewewewda', 1, 2, 3, 'wdww', 'wewewewda', 1, 2, 3, 'wdww', 'wewewewda', 1, 2, 3, 'wdww', 'wewewewda', 1, 2, 3, 'wdww', 'wewewewda', 1, 2, 3, 'wdww', 'wewewewda', 1, 2, 3, 'wdww', 'wewewewda', 1, 2, 3, 'wdww', 'wewewewda', 1, 2, 3, 'wdww', 'wewewewda', 1, 2, 3, 'wdww', 'wewewewda', 1, 2, 3, 'wdww', 'wewewewda', 1, 2, 3, 'wdww', 'wewewewda', 1, 2, 3, 'wdww', 'wewewewda', 1, 2, 3, 'wdww', 'wewewewda', 1, 2, 3, 'wdww', 'wewewewda', 1, 2, 3, 'wdww', 'wewewewda', 1, 2, 3, 'wdww', 'wewewewda', 1, 2, 3, 'wdww', 'wewewewda', 1, 2, 3, 'wdww', 'wewewewda', 1, 2, 3, 'wdww', 'wewewewda', 1, 2, 3, 'wdww', 'wewewewda', 1, 2, 3, 'wdww', 'wewewewda', 1, 2, 3, 'wdww', 'wewewewda', 1, 2, 3, 'wdww', 'wewewewda', 1, 2, 3, 'wdww', 'wewewewda', 1, 2, 3, 'wdww', 'wewewewda', 1, 2, 3, 'wdww', 'wewewewda', 1, 2, 3, 'wdww', 'wewewewda', 1, 2, 3, 'wdww', 'wewewewda', 1, 2, 3, 'wdww', 'wewewewda', 1, 2, 3, 'wdww', 'wewewewda', 1, 2, 3, 'wdww', 'wewewewda', 1, 2, 3, 'wdww', 'wewewewda', 1, 2, 3, 'wdww', 'wewewewda', 1, 2, 3, 'wdww', 'wewewewda', 1, 2, 3, 'wdww', 'wewewewda', 1, 2, 3, 'wdww', 'wewewewda', 1, 2, 3, 'wdww', 'wewewewda', 1, 2, 3, 'wdww', 'wewewewda', 1, 2, 3, 'wdww', 'wewewewda', 1, 2, 3, 'wdww', 'wewewewda', 1, 2, 3, 'wdww', 'wewewewda', 1, 2, 3, 'wdww', 'wewewewda', 1, 2, 3, 'wdww', 'wewewewda', 1, 2, 3, 'wdww', 'wewewewda', 1, 2, 3, 'wdww', 'wewewewda', 1, 2, 3, 'wdww', 'wewewewda', 1, 2, 3, 'wdww', 'wewewewda', 1, 2, 3, 'wdww', 'wewewewda', 1, 2, 3, 'wdww', 'wewewewda', 1, 2, 3, 'wdww', 'wewewewda', 1, 2, 3, 'wdww', 'wewewewda', 1, 2, 3, 'wdww', 'wewewewda', 1, 2, 3, 'wdww', 'wewewewda', 1, 2, 3, 'wdww', 'wewewewda', 1, 2, 3, 'wdww', 'wewewewda', 1, 2, 3, 'wdww', 'wewewewda', 1, 2, 3, 'wdww', 'wewewewda', 1, 2, 3, 'wdww', 'wewewewda', 1, 2, 3, 'wdww', 'wewewewda', 1, 2, 3, 'wdww', 'wewewewda', 1, 2, 3, 'wdww', 'wewewewda', 1, 2, 3, 'wdww', 'wewewewda', 1, 2, 3, 'wdww', 'wewewewda', 1, 2, 3, 'wdww', 'wewewewda', 1, 2, 3, 'wdww', 'wewewewda', 1, 2, 3, 'wdww', 'wewewewda', 1, 2, 3, 'wdww', 'wewewewda', 1, 2, 3, 'wdww', 'wewewewda', 1, 2, 3, 'wdww', 'wewewewda', 1, 2, 3, 'wdww', 'wewewewda', 1, 2, 3, 'wdww', 'wewewewda', 1, 2, 3, 'wdww', 'wewewewda', 1, 2, 3, 'wdww', 'wewewewda', 1, 2, 3, 'wdww', 'wewewewda', 1, 2, 3, 'wdww', 'wewewewda', 1, 2, 3, 'wdww', 'wewewewda', 1, 2, 3, 'wdww', 'wewewewda', 1, 2, 3, 'wdww', 'wewewewda', 1, 2, 3, 'wdww', 'wewewewda', 1, 2, 3, 'wdww', 'wewewewda', 1, 2, 3, 'wdww', 'wewewewda', 1, 2, 3, 'wdww', 'wewewewda', 1, 2, 3, 'wdww', 'wewewewda', 1, 2, 3, 'wdww', 'wewewewda', 1, 2, 3, 'wdww', 'wewewewda', 1, 2, 3, 'wdww', 'wewewewda', 1, 2, 3, 'wdww', 'wewewewda', 1, 2, 3, 'wdww', 'wewewewda', 1, 2, 3, 'wdww', 'wewewewda', 1, 2, 3, 'wdww', 'wewewewda', 1, 2, 3, 'wdww', 'wewewewda', 1, 2, 3, 'wdww', 'wewewewda', 1, 2, 3, 'wdww', 'wewewewda', 1, 2, 3, 'wdww', 'wewewewda', 1, 2, 3, 'wdww', 'wewewewda', 1, 2, 3, 'wdww', 'wewewewda', 1, 2, 3, 'wdww', 'wewewewda', 1, 2, 3, 'wdww', 'wewewewda', 1, 2, 3, 'wdww', 'wewewewda', 1, 2, 3, 'wdww', 'wewewewda', 1, 2, 3, 'wdww', 'wewewewda', 1, 2, 3, 'wdww', 'wewewewda', 1, 2, 3, 'wdww', 'wewewewda', 1, 2, 3, 'wdww', 'wewewewda', 1, 2, 3, 'wdww', 'wewewewda', 1, 2, 3, 'wdww', 'wewewewda', 1, 2, 3, 'wdww', 'wewewewda', 1, 2, 3, 'wdww', 'wewewewda', 1, 2, 3, 'wdww', 'wewewewda', 1, 2, 3, 'wdww', 'wewewewda', 1, 2, 3, 'wdww', 'wewewewda', 1, 2, 3, 'wdww', 'wewewewda', 1, 2, 3, 'wdww', 'wewewewda', 1, 2, 3, 'wdww', 'wewewewda', 1, 2, 3, 'wdww', 'wewewewda', 1, 2, 3, 'wdww', 'wewewewda', 1, 2, 3, 'wdww', 'wewewewda', 1, 2, 3, 'wdww', 'wewewewda', 1, 2, 3, 'wdww', 'wewewewda', 1, 2, 3, 'wdww', 'wewewewda', 1, 2, 3, 'wdww', 'wewewewda', 1, 2, 3, 'wdww', 'wewewewda', 1, 2, 3, 'wdww', 'wewewewda', 1, 2, 3, 'wdww', 'wewewewda', 1, 2, 3, 'wdww', 'wewewewda', 1, 2, 3, 'wdww', 'wewewewda', 1, 2, 3, 'wdww', 'wewewewda', 1, 2, 3, 'wdww', 'wewewewda', 1, 2, 3, 'wdww', 'wewewewda', 1, 2, 3, 'wdww', 'wewewewda', 1, 2, 3, 'wdww', 'wewewewda', 1, 2, 3, 'wdww', 'wewewewda', 1, 2, 3, 'wdww', 'wewewewda', 1, 2, 3, 'wdww', 'wewewewda', 1, 2, 3, 'wdww', 'wewewewda', 1, 2, 3, 'wdww', 'wewewewda', 1, 2, 3, 'wdww', 'wewewewda', 1, 2, 3, 'wdww', 'wewewewda', 1, 2, 3, 'wdww', 'wewewewda', 1, 2, 3, 'wdww', 'wewewewda', 1, 2, 3, 'wdww', 'wewewewda', 1, 2, 3, 'wdww', 'wewewewda', 1, 2, 3, 'wdww', 'wewewewda', 1, 2, 3, 'wdww', 'wewewewda', 1, 2, 3, 'wdww', 'wewewewda', 1, 2, 3, 'wdww', 'wewewewda', 1, 2, 3, 'wdww', 'wewewewda', 1, 2, 3, 'wdww', 'wewewewda', 1, 2, 3, 'wdww', 'wewewewda', 1, 2, 3, 'wdww', 'wewewewda', 1, 2, 3, 'wdww', 'wewewewda', 1, 2, 3, 'wdww', 'wewewewda', 1, 2, 3, 'wdww', 'wewewewda', 1, 2, 3, 'wdww', 'wewewewda', 1, 2, 3, 'wdww', 'wewewewda', 1, 2, 3, 'wdww', 'wewewewda', 1, 2, 3, 'wdww', 'wewewewda', 1, 2, 3, 'wdww', 'wewewewda', 1, 2, 3, 'wdww', 'wewewewda', 1, 2, 3, 'wdww', 'wewewewda', 1, 2, 3, 'wdww', 'wewewewda', 1, 2, 3, 'wdww', 'wewewewda', 1, 2, 3, 'wdww', 'wewewewda', 1, 2, 3, 'wdww', 'wewewewda', 1, 2, 3, 'wdww', 'wewewewda', 1, 2, 3, 'wdww', 'wewewewda', 1, 2, 3, 'wdww', 'wewewewda', 1, 2, 3, 'wdww', 'wewewewda', 1, 2, 3, 'wdww', 'wewewewda', 1, 2, 3, 'wdww', 'wewewewda', 1, 2, 3, 'wdww', 'wewewewda', 1, 2, 3, 'wdww', 'wewewewda', 1, 2, 3, 'wdww', 'wewewewda', 1, 2, 3, 'wdww', 'wewewewda', 1, 2, 3, 'wdww', 'wewewewda', 1, 2, 3, 'wdww', 'wewewewda', 1, 2, 3, 'wdww', 'wewewewda', 1, 2, 3, 'wdww', 'wewewewda', 1, 2, 3, 'wdww', 'wewewewda', 1, 2, 3, 'wdww', 'wewewewda', 1, 2, 3, 'wdww', 'wewewewda', 1, 2, 3, 'wdww', 'wewewewda', 1, 2, 3, 'wdww', 'wewewewda', 1, 2, 3, 'wdww', 'wewewewda', 1, 2, 3, 'wdww', 'wewewewda', 1, 2, 3, 'wdww', 'wewewewda', 1, 2, 3, 'wdww', 'wewewewda', 1, 2, 3, 'wdww', 'wewewewda', 1, 2, 3, 'wdww', 'wewewewda', 1, 2, 3, 'wdww', 'wewewewda', 1, 2, 3, 'wdww', 'wewewewda', 1, 2, 3, 'wdww', 'wewewewda', 1, 2, 3, 'wdww', 'wewewewda', 1, 2, 3, 'wdww', 'wewewewda', 1, 2, 3, 'wdww', 'wewewewda', 1, 2, 3, 'wdww', 'wewewewda', 1, 2, 3, 'wdww', 'wewewewda', 1, 2, 3, 'wdww', 'wewewewda', 1, 2, 3, 'wdww', 'wewewewda', 1, 2, 3, 'wdww', 'wewewewda', 1, 2, 3, 'wdww', 'wewewewda', 1, 2, 3, 'wdww', 'wewewewda', 1, 2, 3, 'wdww', 'wewewewda', 1, 2, 3, 'wdww', 'wewewewda', 1, 2, 3, 'wdww', 'wewewewda', 1, 2, 3, 'wdww', 'wewewewda', 1, 2, 3, 'wdww', 'wewewewda', 1, 2, 3, 'wdww', 'wewewewda', 1, 2, 3, 'wdww', 'wewewewda', 1, 2, 3, 'wdww', 'wewewewda', 1, 2, 3, 'wdww', 'wewewewda', 1, 2, 3, 'wdww', 'wewewewda', 1, 2, 3, 'wdww', 'wewewewda', 1, 2, 3, 'wdww', 'wewewewda', 1, 2, 3, 'wdww', 'wewewewda', 1, 2, 3, 'wdww', 'wewewewda', 1, 2, 3, 'wdww', 'wewewewda', 1, 2, 3, 'wdww', 'wewewewda', 1, 2, 3, 'wdww', 'wewewewda', 1, 2, 3, 'wdww', 'wewewewda', 1, 2, 3, 'wdww', 'wewewewda', 1, 2, 3, 'wdww', 'wewewewda', 1, 2, 3, 'wdww', 'wewewewda', 1, 2, 3, 'wdww', 'wewewewda', 1, 2, 3, 'wdww', 'wewewewda', 1, 2, 3, 'wdww', 'wewewewda', 1, 2, 3, 'wdww', 'wewewewda', 1, 2, 3, 'wdww', 'wewewewda', 1, 2, 3, 'wdww', 'wewewewda', 1, 2, 3, 'wdww', 'wewewewda', 1, 2, 3, 'wdww', 'wewewewda', 1, 2, 3, 'wdww', 'wewewewda', 1, 2, 3, 'wdww', 'wewewewda', 1, 2, 3, 'wdww', 'wewewewda', 1, 2, 3, 'wdww', 'wewewewda', 1, 2, 3, 'wdww', 'wewewewda', 1, 2, 3, 'wdww', 'wewewewda', 1, 2, 3, 'wdww', 'wewewewda', 1, 2, 3, 'wdww', 'wewewewda', 1, 2, 3, 'wdww', 'wewewewda', 1, 2, 3, 'wdww', 'wewewewda', 1, 2, 3, 'wdww', 'wewewewda', 1, 2, 3, 'wdww', 'wewewewda', 1, 2, 3, 'wdww', 'wewewewda', 1, 2, 3, 'wdww', 'wewewewda', 1, 2, 3, 'wdww', 'wewewewda', 1, 2, 3, 'wdww', 'wewewewda', 1, 2, 3, 'wdww', 'wewewewda', 1, 2, 3, 'wdww', 'wewewewda', 1, 2, 3, 'wdww', 'wewewewda', 1, 2, 3, 'wdww', 'wewewewda', 1, 2, 3, 'wdww', 'wewewewda', 1, 2, 3, 'wdww', 'wewewewda', 1, 2, 3, 'wdww', 'wewewewda', 1, 2, 3, 'wdww', 'wewewewda', 1, 2, 3, 'wdww', 'wewewewda', 1, 2, 3, 'wdww', 'wewewewda', 1, 2, 3, 'wdww', 'wewewewda', 1, 2, 3, 'wdww', 'wewewewda', 1, 2, 3, 'wdww', 'wewewewda', 1, 2, 3, 'wdww', 'wewewewda', 1, 2, 3, 'wdww', 'wewewewda', 1, 2, 3, 'wdww', 'wewewewda', 1, 2, 3, 'wdww', 'wewewewda', 1, 2, 3, 'wdww', 'wewewewda', 1, 2, 3, 'wdww', 'wewewewda', 1, 2, 3, 'wdww', 'wewewewda', 1, 2, 3, 'wdww', 'wewewewda', 1, 2, 3, 'wdww', 'wewewewda', 1, 2, 3, 'wdww', 'wewewewda', 1, 2, 3, 'wdww', 'wewewewda', 1, 2, 3, 'wdww', 'wewewewda', 1, 2, 3, 'wdww', 'wewewewda', 1, 2, 3, 'wdww', 'wewewewda', 1, 2, 3, 'wdww', 'wewewewda', 1, 2, 3, 'wdww', 'wewewewda', 1, 2, 3, 'wdww', 'wewewewda', 1, 2, 3, 'wdww', 'wewewewda', 1, 2, 3, 'wdww', 'wewewewda', 1, 2, 3, 'wdww', 'wewewewda', 1, 2, 3, 'wdww', 'wewewewda', 1, 2, 3, 'wdww', 'wewewewda', 1, 2, 3, 'wdww', 'wewewewda', 1, 2, 3, 'wdww', 'wewewewda', 1, 2, 3, 'wdww', 'wewewewda', 1, 2, 3, 'wdww', 'wewewewda', 1, 2, 3, 'wdww', 'wewewewda', 1, 2, 3, 'wdww', 'wewewewda', 1, 2, 3, 'wdww', 'wewewewda', 1, 2, 3, 'wdww', 'wewewewda', 1, 2, 3, 'wdww', 'wewewewda', 1, 2, 3, 'wdww', 'wewewewda', 1, 2, 3, 'wdww', 'wewewewda', 1, 2, 3, 'wdww', 'wewewewda', 1, 2, 3, 'wdww', 'wewewewda', 1, 2, 3, 'wdww', 'wewewewda', 1, 2, 3, 'wdww', 'wewewewda', 1, 2, 3, 'wdww', 'wewewewda', 1, 2, 3, 'wdww', 'wewewewda', 1, 2, 3, 'wdww', 'wewewewda', 1, 2, 3, 'wdww', 'wewewewda', 1, 2, 3, 'wdww', 'wewewewda', 1, 2, 3, 'wdww', 'wewewewda', 1, 2, 3, 'wdww', 'wewewewda', 1, 2, 3, 'wdww', 'wewewewda', 1, 2, 3, 'wdww', 'wewewewda', 1, 2, 3, 'wdww', 'wewewewda', 1, 2, 3, 'wdww', 'wewewewda', 1, 2, 3, 'wdww', 'wewewewda', 1, 2, 3, 'wdww', 'wewewewda', 1, 2, 3, 'wdww', 'wewewewda', 1, 2, 3, 'wdww', 'wewewewda', 1, 2, 3, 'wdww', 'wewewewda', 1, 2, 3, 'wdww', 'wewewewda', 1, 2, 3, 'wdww', 'wewewewda', 1, 2, 3, 'wdww', 'wewewewda', 1, 2, 3, 'wdww', 'wewewewda', 1, 2, 3, 'wdww', 'wewewewda', 1, 2, 3, 'wdww', 'wewewewda', 1, 2, 3, 'wdww', 'wewewewda', 1, 2, 3, 'wdww', 'wewewewda', 1, 2, 3, 'wdww', 'wewewewda', 1, 2, 3, 'wdww', 'wewewewda', 1, 2, 3, 'wdww', 'wewewewda', 1, 2, 3, 'wdww', 'wewewewda', 1, 2, 3, 'wdww', 'wewewewda', 1, 2, 3, 'wdww', 'wewewewda', 1, 2, 3, 'wdww', 'wewewewda', 1, 2, 3, 'wdww', 'wewewewda', 1, 2, 3, 'wdww', 'wewewewda', 1, 2, 3, 'wdww', 'wewewewda', 1, 2, 3, 'wdww', 'wewewewda', 1, 2, 3, 'wdww', 'wewewewda', 1, 2, 3, 'wdww', 'wewewewda', 1, 2, 3, 'wdww', 'wewewewda', 1, 2, 3, 'wdww', 'wewewewda', 1, 2, 3, 'wdww', 'wewewewda', 1, 2, 3, 'wdww', 'wewewewda', 1, 2, 3, 'wdww', 'wewewewda', 1, 2, 3, 'wdww', 'wewewewda', 1, 2, 3, 'wdww', 'wewewewda', 1, 2, 3, 'wdww', 'wewewewda', 1, 2, 3, 'wdww', 'wewewewda', 1, 2, 3, 'wdww', 'wewewewda', 1, 2, 3, 'wdww', 'wewewewda', 1, 2, 3, 'wdww', 'wewewewda', 1, 2, 3, 'wdww', 'wewewewda', 1, 2, 3, 'wdww', 'wewewewda', 1, 2, 3, 'wdww', 'wewewewda', 1, 2, 3, 'wdww', 'wewewewda', 1, 2, 3, 'wdww', 'wewewewda', 1, 2, 3, 'wdww', 'wewewewda', 1, 2, 3, 'wdww', 'wewewewda', 1, 2, 3, 'wdww', 'wewewewda', 1, 2, 3, 'wdww', 'wewewewda', 1, 2, 3, 'wdww', 'wewewewda', 1, 2, 3, 'wdww', 'wewewewda', 1, 2, 3, 'wdww', 'wewewewda', 1, 2, 3, 'wdww', 'wewewewda', 1, 2, 3, 'wdww', 'wewewewda', 1, 2, 3, 'wdww', 'wewewewda', 1, 2, 3, 'wdww', 'wewewewda', 1, 2, 3, 'wdww', 'wewewewda', 1, 2, 3, 'wdww', 'wewewewda', 1, 2, 3, 'wdww', 'wewewewda', 1, 2, 3, 'wdww', 'wewewewda', 1, 2, 3, 'wdww', 'wewewewda', 1, 2, 3, 'wdww', 'wewewewda', 1, 2, 3, 'wdww', 'wewewewda', 1, 2, 3, 'wdww', 'wewewewda', 1, 2, 3, 'wdww', 'wewewewda', 1, 2, 3, 'wdww', 'wewewewda', 1, 2, 3, 'wdww', 'wewewewda', 1, 2, 3, 'wdww', 'wewewewda', 1, 2, 3, 'wdww', 'wewewewda', 1, 2, 3, 'wdww', 'wewewewda', 1, 2, 3, 'wdww', 'wewewewda', 1, 2, 3, 'wdww', 'wewewewda', 1, 2, 3, 'wdww', 'wewewewda', 1, 2, 3, 'wdww', 'wewewewda', 1, 2, 3, 'wdww', 'wewewewda', 1, 2, 3, 'wdww', 'wewewewda', 1, 2, 3, 'wdww', 'wewewewda', 1, 2, 3, 'wdww', 'wewewewda', 1, 2, 3, 'wdww', 'wewewewda', 1, 2, 3, 'wdww', 'wewewewda', 1, 2, 3, 'wdww', 'wewewewda', 1, 2, 3, 'wdww', 'wewewewda', 1, 2, 3, 'wdww', 'wewewewda', 1, 2, 3, 'wdww', 'wewewewda', 1, 2, 3, 'wdww', 'wewewewda', 1, 2, 3, 'wdww', 'wewewewda', 1, 2, 3, 'wdww', 'wewewewda', 1, 2, 3, 'wdww', 'wewewewda', 1, 2, 3, 'wdww', 'wewewewda', 1, 2, 3, 'wdww', 'wewewewda', 1, 2, 3, 'wdww', 'wewewewda', 1, 2, 3, 'wdww', 'wewewewda', 1, 2, 3, 'wdww', 'wewewewda', 1, 2, 3, 'wdww', 'wewewewda', 1, 2, 3, 'wdww', 'wewewewda', 1, 2, 3, 'wdww', 'wewewewda', 1, 2, 3, 'wdww', 'wewewewda', 1, 2, 3, 'wdww', 'wewewewda', 1, 2, 3, 'wdww', 'wewewewda', 1, 2, 3, 'wdww', 'wewewewda', 1, 2, 3, 'wdww', 'wewewewda', 1, 2, 3, 'wdww', 'wewewewda', 1, 2, 3, 'wdww', 'wewewewda', 1, 2, 3, 'wdww', 'wewewewda', 1, 2, 3, 'wdww', 'wewewewda', 1, 2, 3, 'wdww', 'wewewewda', 1, 2, 3, 'wdww', 'wewewewda', 1, 2, 3, 'wdww', 'wewewewda', 1, 2, 3, 'wdww', 'wewewewda', 1, 2, 3, 'wdww', 'wewewewda', 1, 2, 3, 'wdww', 'wewewewda', 1, 2, 3, 'wdww', 'wewewewda', 1, 2, 3, 'wdww', 'wewewewda', 1, 2, 3, 'wdww', 'wewewewda', 1, 2, 3, 'wdww', 'wewewewda', 1, 2, 3, 'wdww', 'wewewewda', 1, 2, 3, 'wdww', 'wewewewda', 1, 2, 3, 'wdww', 'wewewewda', 1, 2, 3, 'wdww', 'wewewewda', 1, 2, 3, 'wdww', 'wewewewda', 1, 2, 3, 'wdww', 'wewewewda', 1, 2, 3, 'wdww', 'wewewewda', 1, 2, 3, 'wdww', 'wewewewda', 1, 2, 3, 'wdww', 'wewewewda', 1, 2, 3, 'wdww', 'wewewewda', 1, 2, 3, 'wdww', 'wewewewda', 1, 2, 3, 'wdww', 'wewewewda', 1, 2, 3, 'wdww', 'wewewewda', 1, 2, 3, 'wdww', 'wewewewda', 1, 2, 3, 'wdww', 'wewewewda', 1, 2, 3, 'wdww', 'wewewewda', 1, 2, 3, 'wdww', 'wewewewda', 1, 2, 3, 'wdww', 'wewewewda', 1, 2, 3, 'wdww', 'wewewewda', 1, 2, 3, 'wdww', 'wewewewda', 1, 2, 3, 'wdww', 'wewewewda', 1, 2, 3, 'wdww', 'wewewewda', 1, 2, 3, 'wdww', 'wewewewda', 1, 2, 3, 'wdww', 'wewewewda', 1, 2, 3, 'wdww', 'wewewewda', 1, 2, 3, 'wdww', 'wewewewda', 1, 2, 3, 'wdww', 'wewewewda', 1, 2, 3, 'wdww', 'wewewewda', 1, 2, 3, 'wdww', 'wewewewda', 1, 2, 3, 'wdww', 'wewewewda', 1, 2, 3, 'wdww', 'wewewewda', 1, 2, 3, 'wdww', 'wewewewda', 1, 2, 3, 'wdww', 'wewewewda', 1, 2, 3, 'wdww', 'wewewewda', 1, 2, 3, 'wdww', 'wewewewda', 1, 2, 3, 'wdww', 'wewewewda', 1, 2, 3, 'wdww', 'wewewewda', 1, 2, 3, 'wdww', 'wewewewda', 1, 2, 3, 'wdww', 'wewewewda', 1, 2, 3, 'wdww', 'wewewewda', 1, 2, 3, 'wdww', 'wewewewda', 1, 2, 3, 'wdww', 'wewewewda', 1, 2, 3, 'wdww', 'wewewewda', 1, 2, 3, 'wdww', 'wewewewda', 1, 2, 3, 'wdww', 'wewewewda', 1, 2, 3, 'wdww', 'wewewewda', 1, 2, 3, 'wdww', 'wewewewda', 1, 2, 3, 'wdww', 'wewewewda', 1, 2, 3, 'wdww', 'wewewewda', 1, 2, 3, 'wdww', 'wewewewda', 1, 2, 3, 'wdww', 'wewewewda', 1, 2, 3, 'wdww', 'wewewewda', 1, 2, 3, 'wdww', 'wewewewda', 1, 2, 3, 'wdww', 'wewewewda', 1, 2, 3, 'wdww', 'wewewewda', 1, 2, 3, 'wdww', 'wewewewda', 1, 2, 3, 'wdww', 'wewewewda', 1, 2, 3, 'wdww', 'wewewewda', 1, 2, 3, 'wdww', 'wewewewda', 1, 2, 3, 'wdww', 'wewewewda', 1, 2, 3, 'wdww', 'wewewewda', 1, 2, 3, 'wdww', 'wewewewda', 1, 2, 3, 'wdww', 'wewewewda', 1, 2, 3, 'wdww', 'wewewewda', 1, 2, 3, 'wdww', 'wewewewda', 1, 2, 3, 'wdww', 'wewewewda', 1, 2, 3, 'wdww', 'wewewewda', 1, 2, 3, 'wdww', 'wewewewda', 1, 2, 3, 'wdww', 'wewewewda', 1, 2, 3, 'wdww', 'wewewewda', 1, 2, 3, 'wdww', 'wewewewda', 1, 2, 3, 'wdww', 'wewewewda', 1, 2, 3, 'wdww', 'wewewewda', 1, 2, 3, 'wdww', 'wewewewda', 1, 2, 3, 'wdww', 'wewewewda', 1, 2, 3, 'wdww', 'wewewewda', 1, 2, 3, 'wdww', 'wewewewda', 1, 2, 3, 'wdww', 'wewewewda', 1, 2, 3, 'wdww', 'wewewewda', 1, 2, 3, 'wdww', 'wewewewda', 1, 2, 3, 'wdww', 'wewewewda', 1, 2, 3, 'wdww', 'wewewewda', 1, 2, 3, 'wdww', 'wewewewda', 1, 2, 3, 'wdww', 'wewewewda', 1, 2, 3, 'wdww', 'wewewewda', 1, 2, 3, 'wdww', 'wewewewda', 1, 2, 3, 'wdww', 'wewewewda', 1, 2, 3, 'wdww', 'wewewewda', 1, 2, 3, 'wdww', 'wewewewda', 1, 2, 3, 'wdww', 'wewewewda', 1, 2, 3, 'wdww', 'wewewewda', 1, 2, 3, 'wdww', 'wewewewda', 1, 2, 3, 'wdww', 'wewewewda', 1, 2, 3, 'wdww', 'wewewewda', 1, 2, 3, 'wdww', 'wewewewda', 1, 2, 3, 'wdww', 'wewewewda', 1, 2, 3, 'wdww', 'wewewewda', 1, 2, 3, 'wdww', 'wewewewda', 1, 2, 3, 'wdww', 'wewewewda', 1, 2, 3, 'wdww', 'wewewewda', 1, 2, 3, 'wdww', 'wewewewda', 1, 2, 3, 'wdww', 'wewewewda', 1, 2, 3, 'wdww', 'wewewewda', 1, 2, 3, 'wdww', 'wewewewda', 1, 2, 3, 'wdww', 'wewewewda', 1, 2, 3, 'wdww', 'wewewewda', 1, 2, 3, 'wdww', 'wewewewda', 1, 2, 3, 'wdww', 'wewewewda', 1, 2, 3, 'wdww', 'wewewewda', 1, 2, 3, 'wdww', 'wewewewda', 1, 2, 3, 'wdww', 'wewewewda', 1, 2, 3, 'wdww', 'wewewewda', 1, 2, 3, 'wdww', 'wewewewda', 1, 2, 3, 'wdww', 'wewewewda', 1, 2, 3, 'wdww', 'wewewewda', 1, 2, 3, 'wdww', 'wewewewda', 1, 2, 3, 'wdww', 'wewewewda', 1, 2, 3, 'wdww', 'wewewewda', 1, 2, 3, 'wdww', 'wewewewda', 1, 2, 3, 'wdww', 'wewewewda', 1, 2, 3, 'wdww', 'wewewewda', 1, 2, 3, 'wdww', 'wewewewda', 1, 2, 3, 'wdww', 'wewewewda', 1, 2, 3, 'wdww', 'wewewewda', 1, 2, 3, 'wdww', 'wewewewda', 1, 2, 3, 'wdww', 'wewewewda', 1, 2, 3, 'wdww', 'wewewewda', 1, 2, 3, 'wdww', 'wewewewda', 1, 2, 3, 'wdww', 'wewewewda', 1, 2, 3, 'wdww', 'wewewewda', 1, 2, 3, 'wdww', 'wewewewda', 1, 2, 3, 'wdww', 'wewewewda', 1, 2, 3, 'wdww', 'wewewewda', 1, 2, 3, 'wdww', 'wewewewda', 1, 2, 3, 'wdww', 'wewewewda', 1, 2, 3, 'wdww', 'wewewewda', 1, 2, 3, 'wdww', 'wewewewda', 1, 2, 3, 'wdww', 'wewewewda', 1, 2, 3, 'wdww', 'wewewewda', 1, 2, 3, 'wdww', 'wewewewda', 1, 2, 3, 'wdww', 'wewewewda', 1, 2, 3, 'wdww', 'wewewewda', 1, 2, 3, 'wdww', 'wewewewda', 1, 2, 3, 'wdww', 'wewewewda', 1, 2, 3, 'wdww', 'wewewewda', 1, 2, 3, 'wdww', 'wewewewda', 1, 2, 3, 'wdww', 'wewewewda', 1, 2, 3, 'wdww', 'wewewewda', 1, 2, 3, 'wdww', 'wewewewda', 1, 2, 3, 'wdww', 'wewewewda', 1, 2, 3, 'wdww', 'wewewewda', 1, 2, 3, 'wdww', 'wewewewda', 1, 2, 3, 'wdww', 'wewewewda', 1, 2, 3, 'wdww', 'wewewewda', 1, 2, 3, 'wdww', 'wewewewda', 1, 2, 3, 'wdww', 'wewewewda', 1, 2, 3, 'wdww', 'wewewewda', 1, 2, 3, 'wdww', 'wewewewda', 1, 2, 3, 'wdww', 'wewewewda', 1, 2, 3, 'wdww', 'wewewewda', 1, 2, 3, 'wdww', 'wewewewda', 1, 2, 3, 'wdww', 'wewewewda', 1, 2, 3, 'wdww', 'wewewewda', 1, 2, 3, 'wdww', 'wewewewda', 1, 2, 3, 'wdww', 'wewewewda', 1, 2, 3, 'wdww', 'wewewewda', 1, 2, 3, 'wdww', 'wewewewda', 1, 2, 3, 'wdww', 'wewewewda', 1, 2, 3, 'wdww', 'wewewewda', 1, 2, 3, 'wdww', 'wewewewda', 1, 2, 3, 'wdww', 'wewewewda', 1, 2, 3, 'wdww', 'wewewewda', 1, 2, 3, 'wdww', 'wewewewda', 1, 2, 3, 'wdww', 'wewewewda', 1, 2, 3, 'wdww', 'wewewewda', 1, 2, 3, 'wdww', 'wewewewda', 1, 2, 3, 'wdww', 'wewewewda', 1, 2, 3, 'wdww', 'wewewewda', 1, 2, 3, 'wdww', 'wewewewda', 1, 2, 3, 'wdww', 'wewewewda', 1, 2, 3, 'wdww', 'wewewewda', 1, 2, 3, 'wdww', 'wewewewda', 1, 2, 3, 'wdww', 'wewewewda', 1, 2, 3, 'wdww', 'wewewewda', 1, 2, 3, 'wdww', 'wewewewda', 1, 2, 3, 'wdww', 'wewewewda', 1, 2, 3, 'wdww', 'wewewewda', 1, 2, 3, 'wdww', 'wewewewda', 1, 2, 3, 'wdww', 'wewewewda', 1, 2, 3, 'wdww', 'wewewewda', 1, 2, 3, 'wdww', 'wewewewda', 1, 2, 3, 'wdww', 'wewewewda', 1, 2, 3, 'wdww', 'wewewewda', 1, 2, 3, 'wdww', 'wewewewda', 1, 2, 3, 'wdww', 'wewewewda', 1, 2, 3, 'wdww', 'wewewewda', 1, 2, 3, 'wdww', 'wewewewda', 1, 2, 3, 'wdww', 'wewewewda', 1, 2, 3, 'wdww', 'wewewewda', 1, 2, 3, 'wdww', 'wewewewda', 1, 2, 3, 'wdww', 'wewewewda', 1, 2, 3, 'wdww', 'wewewewda', 1, 2, 3, 'wdww', 'wewewewda', 1, 2, 3, 'wdww', 'wewewewda', 1, 2, 3, 'wdww', 'wewewewda', 1, 2, 3, 'wdww', 'wewewewda', 1, 2, 3, 'wdww', 'wewewewda', 1, 2, 3, 'wdww', 'wewewewda', 1, 2, 3, 'wdww', 'wewewewda', 1, 2, 3, 'wdww', 'wewewewda', 1, 2, 3, 'wdww', 'wewewewda', 1, 2, 3, 'wdww', 'wewewewda', 1, 2, 3, 'wdww', 'wewewewda', 1, 2, 3, 'wdww', 'wewewewda', 1, 2, 3, 'wdww', 'wewewewda', 1, 2, 3, 'wdww', 'wewewewda', 1, 2, 3, 'wdww', 'wewewewda', 1, 2, 3, 'wdww', 'wewewewda', 1, 2, 3, 'wdww', 'wewewewda', 1, 2, 3, 'wdww', 'wewewewda', 1, 2, 3, 'wdww', 'wewewewda', 1, 2, 3, 'wdww', 'wewewewda', 1, 2, 3, 'wdww', 'wewewewda', 1, 2, 3, 'wdww', 'wewewewda', 1, 2, 3, 'wdww', 'wewewewda', 1, 2, 3, 'wdww', 'wewewewda', 1, 2, 3, 'wdww', 'wewewewda', 1, 2, 3, 'wdww', 'wewewewda', 1, 2, 3, 'wdww', 'wewewewda', 1, 2, 3, 'wdww', 'wewewewda', 1, 2, 3, 'wdww', 'wewewewda', 1, 2, 3, 'wdww', 'wewewewda', 1, 2, 3, 'wdww', 'wewewewda', 1, 2, 3, 'wdww', 'wewewewda', 1, 2, 3, 'wdww', 'wewewewda', 1, 2, 3, 'wdww', 'wewewewda', 1, 2, 3, 'wdww', 'wewewewda', 1, 2, 3, 'wdww', 'wewewewda', 1, 2, 3, 'wdww', 'wewewewda', 1, 2, 3, 'wdww', 'wewewewda', 1, 2, 3, 'wdww', 'wewewewda', 1, 2, 3, 'wdww', 'wewewewda', 1, 2, 3, 'wdww', 'wewewewda', 1, 2, 3, 'wdww', 'wewewewda', 1, 2, 3, 'wdww', 'wewewewda', 1, 2, 3, 'wdww', 'wewewewda', 1, 2, 3, 'wdww', 'wewewewda', 1, 2, 3, 'wdww', 'wewewewda', 1, 2, 3, 'wdww', 'wewewewda', 1, 2, 3, 'wdww', 'wewewewda', 1, 2, 3, 'wdww', 'wewewewda', 1, 2, 3, 'wdww', 'wewewewda', 1, 2, 3, 'wdww', 'wewewewda', 1, 2, 3, 'wdww', 'wewewewda', 1, 2, 3, 'wdww', 'wewewewda', 1, 2, 3, 'wdww', 'wewewewda', 1, 2, 3, 'wdww', 'wewewewda', 1, 2, 3, 'wdww', 'wewewewda', 1, 2, 3, 'wdww', 'wewewewda', 1, 2, 3, 'wdww', 'wewewewda', 1, 2, 3, 'wdww', 'wewewewda', 1, 2, 3, 'wdww', 'wewewewda', 1, 2, 3, 'wdww', 'wewewewda', 1, 2, 3, 'wdww', 'wewewewda', 1, 2, 3, 'wdww', 'wewewewda', 1, 2, 3, 'wdww', 'wewewewda', 1, 2, 3, 'wdww', 'wewewewda', 1, 2, 3, 'wdww', 'wewewewda', 1, 2, 3, 'wdww', 'wewewewda', 1, 2, 3, 'wdww', 'wewewewda', 1, 2, 3, 'wdww', 'wewewewda', 1, 2, 3, 'wdww', 'wewewewda', 1, 2, 3, 'wdww', 'wewewewda', 1, 2, 3, 'wdww', 'wewewewda', 1, 2, 3, 'wdww', 'wewewewda', 1, 2, 3, 'wdww', 'wewewewda', 1, 2, 3, 'wdww', 'wewewewda', 1, 2, 3, 'wdww', 'wewewewda', 1, 2, 3, 'wdww', 'wewewewda', 1, 2, 3, 'wdww', 'wewewewda', 1, 2, 3, 'wdww', 'wewewewda', 1, 2, 3, 'wdww', 'wewewewda', 1, 2, 3, 'wdww', 'wewewewda', 1, 2, 3, 'wdww', 'wewewewda', 1, 2, 3, 'wdww', 'wewewewda', 1, 2, 3, 'wdww', 'wewewewda', 1, 2, 3, 'wdww', 'wewewewda', 1, 2, 3, 'wdww', 'wewewewda', 1, 2, 3, 'wdww', 'wewewewda', 1, 2, 3, 'wdww', 'wewewewda', 1, 2, 3, 'wdww', 'wewewewda', 1, 2, 3, 'wdww', 'wewewewda', 1, 2, 3, 'wdww', 'wewewewda', 1, 2, 3, 'wdww', 'wewewewda', 1, 2, 3, 'wdww', 'wewewewda', 1, 2, 3, 'wdww', 'wewewewda', 1, 2, 3, 'wdww', 'wewewewda', 1, 2, 3, 'wdww', 'wewewewda', 1, 2, 3, 'wdww', 'wewewewda', 1, 2, 3, 'wdww', 'wewewewda', 1, 2, 3, 'wdww', 'wewewewda', 1, 2, 3, 'wdww', 'wewewewda', 1, 2, 3, 'wdww', 'wewewewda', 1, 2, 3, 'wdww', 'wewewewda', 1, 2, 3, 'wdww', 'wewewewda', 1, 2, 3, 'wdww', 'wewewewda', 1, 2, 3, 'wdww', 'wewewewda', 1, 2, 3, 'wdww', 'wewewewda', 1, 2, 3, 'wdww', 'wewewewda', 1, 2, 3, 'wdww', 'wewewewda', 1, 2, 3, 'wdww', 'wewewewda', 1, 2, 3, 'wdww', 'wewewewda', 1, 2, 3, 'wdww', 'wewewewda', 1, 2, 3, 'wdww', 'wewewewda', 1, 2, 3, 'wdww', 'wewewewda', 1, 2, 3, 'wdww', 'wewewewda', 1, 2, 3, 'wdww', 'wewewewda', 1, 2, 3, 'wdww', 'wewewewda', 1, 2, 3, 'wdww', 'wewewewda', 1, 2, 3, 'wdww', 'wewewewda', 1, 2, 3, 'wdww', 'wewewewda', 1, 2, 3, 'wdww', 'wewewewda', 1, 2, 3, 'wdww', 'wewewewda', 1, 2, 3, 'wdww', 'wewewewda', 1, 2, 3, 'wdww', 'wewewewda', 1, 2, 3, 'wdww', 'wewewewda', 1, 2, 3, 'wdww', 'wewewewda', 1, 2, 3, 'wdww', 'wewewewda', 1, 2, 3, 'wdww', 'wewewewda', 1, 2, 3, 'wdww', 'wewewewda', 1, 2, 3, 'wdww', 'wewewewda', 1, 2, 3, 'wdww', 'wewewewda', 1, 2, 3, 'wdww', 'wewewewda', 1, 2, 3, 'wdww', 'wewewewda', 1, 2, 3, 'wdww', 'wewewewda', 1, 2, 3, 'wdww', 'wewewewda', 1, 2, 3, 'wdww', 'wewewewda', 1, 2, 3, 'wdww', 'wewewewda', 1, 2, 3, 'wdww', 'wewewewda', 1, 2, 3, 'wdww', 'wewewewda', 1, 2, 3, 'wdww', 'wewewewda', 1, 2, 3, 'wdww', 'wewewewda', 1, 2, 3, 'wdww', 'wewewewda', 1, 2, 3, 'wdww', 'wewewewda', 1, 2, 3, 'wdww', 'wewewewda', 1, 2, 3, 'wdww', 'wewewewda', 1, 2, 3, 'wdww', 'wewewewda', 1, 2, 3, 'wdww', 'wewewewda', 1, 2, 3, 'wdww', 'wewewewda', 1, 2, 3, 'wdww', 'wewewewda', 1, 2, 3, 'wdww', 'wewewewda', 1, 2, 3, 'wdww', 'wewewewda', 1, 2, 3, 'wdww', 'wewewewda', 1, 2, 3, 'wdww', 'wewewewda', 1, 2, 3, 'wdww', 'wewewewda', 1, 2, 3, 'wdww', 'wewewewda', 1, 2, 3, 'wdww', 'wewewewda', 1, 2, 3, 'wdww', 'wewewewda', 1, 2, 3, 'wdww', 'wewewewda', 1, 2, 3, 'wdww', 'wewewewda', 1, 2, 3, 'wdww', 'wewewewda', 1, 2, 3, 'wdww', 'wewewewda', 1, 2, 3, 'wdww', 'wewewewda', 1, 2, 3, 'wdww', 'wewewewda', 1, 2, 3, 'wdww', 'wewewewda', 1, 2, 3, 'wdww', 'wewewewda', 1, 2, 3, 'wdww', 'wewewewda', 1, 2, 3, 'wdww', 'wewewewda', 1, 2, 3, 'wdww', 'wewewewda', 1, 2, 3, 'wdww', 'wewewewda', 1, 2, 3, 'wdww', 'wewewewda', 1, 2, 3, 'wdww', 'wewewewda', 1, 2, 3, 'wdww', 'wewewewda', 1, 2, 3, 'wdww', 'wewewewda', 1, 2, 3, 'wdww', 'wewewewda', 1, 2, 3, 'wdww', 'wewewewda', 1, 2, 3, 'wdww', 'wewewewda', 1, 2, 3, 'wdww', 'wewewewda', 1, 2, 3, 'wdww', 'wewewewda', 1, 2, 3, 'wdww', 'wewewewda', 1, 2, 3, 'wdww', 'wewewewda', 1, 2, 3, 'wdww', 'wewewewda', 1, 2, 3, 'wdww', 'wewewewda', 1, 2, 3, 'wdww', 'wewewewda', 1, 2, 3, 'wdww', 'wewewewda', 1, 2, 3, 'wdww', 'wewewewda', 1, 2, 3, 'wdww', 'wewewewda', 1, 2, 3, 'wdww', 'wewewewda', 1, 2, 3, 'wdww', 'wewewewda', 1, 2, 3, 'wdww', 'wewewewda', 1, 2, 3, 'wdww', 'wewewewda', 1, 2, 3, 'wdww', 'wewewewda', 1, 2, 3, 'wdww', 'wewewewda', 1, 2, 3, 'wdww', 'wewewewda', 1, 2, 3, 'wdww', 'wewewewda', 1, 2, 3, 'wdww', 'wewewewda', 1, 2, 3, 'wdww', 'wewewewda', 1, 2, 3, 'wdww', 'wewewewda', 1, 2, 3, 'wdww', 'wewewewda', 1, 2, 3, 'wdww', 'wewewewda', 1, 2, 3, 'wdww', 'wewewewda', 1, 2, 3, 'wdww', 'wewewewda', 1, 2, 3, 'wdww', 'wewewewda', 1, 2, 3, 'wdww', 'wewewewda', 1, 2, 3, 'wdww', 'wewewewda', 1, 2, 3, 'wdww', 'wewewewda', 1, 2, 3, 'wdww', 'wewewewda', 1, 2, 3, 'wdww', 'wewewewda', 1, 2, 3, 'wdww', 'wewewewda', 1, 2, 3, 'wdww', 'wewewewda', 1, 2, 3, 'wdww', 'wewewewda', 1, 2, 3, 'wdww', 'wewewewda', 1, 2, 3, 'wdww', 'wewewewda', 1, 2, 3, 'wdww', 'wewewewda', 1, 2, 3, 'wdww', 'wewewewda', 1, 2, 3, 'wdww', 'wewewewda', 1, 2, 3, 'wdww', 'wewewewda', 1, 2, 3, 'wdww', 'wewewewda', 1, 2, 3, 'wdww', 'wewewewda', 1, 2, 3, 'wdww', 'wewewewda', 1, 2, 3, 'wdww', 'wewewewda', 1, 2, 3, 'wdww', 'wewewewda', 1, 2, 3, 'wdww', 'wewewewda', 1, 2, 3, 'wdww', 'wewewewda', 1, 2, 3, 'wdww', 'wewewewda', 1, 2, 3, 'wdww', 'wewewewda', 1, 2, 3, 'wdww', 'wewewewda', 1, 2, 3, 'wdww', 'wewewewda', 1, 2, 3, 'wdww', 'wewewewda', 1, 2, 3, 'wdww', 'wewewewda', 1, 2, 3, 'wdww', 'wewewewda', 1, 2, 3, 'wdww', 'wewewewda', 1, 2, 3, 'wdww', 'wewewewda', 1, 2, 3, 'wdww', 'wewewewda', 1, 2, 3, 'wdww', 'wewewewda', 1, 2, 3, 'wdww', 'wewewewda', 1, 2, 3, 'wdww', 'wewewewda', 1, 2, 3, 'wdww', 'wewewewda', 1, 2, 3, 'wdww', 'wewewewda', 1, 2, 3, 'wdww', 'wewewewda', 1, 2, 3, 'wdww', 'wewewewda', 1, 2, 3, 'wdww', 'wewewewda', 1, 2, 3, 'wdww', 'wewewewda', 1, 2, 3, 'wdww', 'wewewewda', 1, 2, 3, 'wdww', 'wewewewda', 1, 2, 3, 'wdww', 'wewewewda', 1, 2, 3, 'wdww', 'wewewewda', 1, 2, 3, 'wdww', 'wewewewda', 1, 2, 3, 'wdww', 'wewewewda', 1, 2, 3, 'wdww', 'wewewewda', 1, 2, 3, 'wdww', 'wewewewda', 1, 2, 3, 'wdww', 'wewewewda', 1, 2, 3, 'wdww', 'wewewewda', 1, 2, 3, 'wdww', 'wewewewda', 1, 2, 3, 'wdww', 'wewewewda', 1, 2, 3, 'wdww', 'wewewewda', 1, 2, 3, 'wdww', 'wewewewda', 1, 2, 3, 'wdww', 'wewewewda', 1, 2, 3, 'wdww', 'wewewewda', 1, 2, 3, 'wdww', 'wewewewda', 1, 2, 3, 'wdww', 'wewewewda', 1, 2, 3, 'wdww', 'wewewewda', 1, 2, 3, 'wdww', 'wewewewda', 1, 2, 3, 'wdww', 'wewewewda', 1, 2, 3, 'wdww', 'wewewewda', 1, 2, 3, 'wdww', 'wewewewda', 1, 2, 3, 'wdww', 'wewewewda', 1, 2, 3, 'wdww', 'wewewewda', 1, 2, 3, 'wdww', 'wewewewda', 1, 2, 3, 'wdww', 'wewewewda', 1, 2, 3, 'wdww', 'wewewewda', 1, 2, 3, 'wdww', 'wewewewda', 1, 2, 3, 'wdww', 'wewewewda', 1, 2, 3, 'wdww', 'wewewewda', 1, 2, 3, 'wdww', 'wewewewda', 1, 2, 3, 'wdww', 'wewewewda', 1, 2, 3, 'wdww', 'wewewewda', 1, 2, 3, 'wdww', 'wewewewda', 1, 2, 3, 'wdww', 'wewewewda', 1, 2, 3, 'wdww', 'wewewewda', 1, 2, 3, 'wdww', 'wewewewda', 1, 2, 3, 'wdww', 'wewewewda', 1, 2, 3, 'wdww', 'wewewewda', 1, 2, 3, 'wdww', 'wewewewda', 1, 2, 3, 'wdww', 'wewewewda', 1, 2, 3, 'wdww', 'wewewewda', 1, 2, 3, 'wdww', 'wewewewda', 1, 2, 3, 'wdww', 'wewewewda', 1, 2, 3, 'wdww', 'wewewewda', 1, 2, 3, 'wdww', 'wewewewda', 1, 2, 3, 'wdww', 'wewewewda', 1, 2, 3, 'wdww', 'wewewewda', 1, 2, 3, 'wdww', 'wewewewda', 1, 2, 3, 'wdww', 'wewewewda', 1, 2, 3, 'wdww', 'wewewewda', 1, 2, 3, 'wdww', 'wewewewda', 1, 2, 3, 'wdww', 'wewewewda', 1, 2, 3, 'wdww', 'wewewewda', 1, 2, 3, 'wdww', 'wewewewda', 1, 2, 3, 'wdww', 'wewewewda', 1, 2, 3, 'wdww', 'wewewewda', 1, 2, 3, 'wdww', 'wewewewda', 1, 2, 3, 'wdww', 'wewewewda', 1, 2, 3, 'wdww', 'wewewewda', 1, 2, 3, 'wdww', 'wewewewda', 1, 2, 3, 'wdww', 'wewewewda', 1, 2, 3, 'wdww', 'wewewewda', 1, 2, 3, 'wdww', 'wewewewda', 1, 2, 3, 'wdww', 'wewewewda', 1, 2, 3, 'wdww', 'wewewewda', 1, 2, 3, 'wdww', 'wewewewda', 1, 2, 3, 'wdww', 'wewewewda', 1, 2, 3, 'wdww', 'wewewewda', 1, 2, 3, 'wdww', 'wewewewda', 1, 2, 3, 'wdww', 'wewewewda', 1, 2, 3, 'wdww', 'wewewewda', 1, 2, 3, 'wdww', 'wewewewda', 1, 2, 3, 'wdww', 'wewewewda', 1, 2, 3, 'wdww', 'wewewewda', 1, 2, 3, 'wdww', 'wewewewda', 1, 2, 3, 'wdww', 'wewewewda', 1, 2, 3, 'wdww', 'wewewewda', 1, 2, 3, 'wdww', 'wewewewda', 1, 2, 3, 'wdww', 'wewewewda', 1, 2, 3, 'wdww', 'wewewewda', 1, 2, 3, 'wdww', 'wewewewda', 1, 2, 3, 'wdww', 'wewewewda', 1, 2, 3, 'wdww', 'wewewewda', 1, 2, 3, 'wdww', 'wewewewda', 1, 2, 3, 'wdww', 'wewewewda', 1, 2, 3, 'wdww', 'wewewewda', 1, 2, 3, 'wdww', 'wewewewda', 1, 2, 3, 'wdww', 'wewewewda', 1, 2, 3, 'wdww', 'wewewewda', 1, 2, 3, 'wdww', 'wewewewda', 1, 2, 3, 'wdww', 'wewewewda', 1, 2, 3, 'wdww', 'wewewewda', 1, 2, 3, 'wdww', 'wewewewda', 1, 2, 3, 'wdww', 'wewewewda', 1, 2, 3, 'wdww', 'wewewewda', 1, 2, 3, 'wdww', 'wewewewda', 1, 2, 3, 'wdww', 'wewewewda', 1, 2, 3, 'wdww', 'wewewewda', 1, 2, 3, 'wdww', 'wewewewda', 1, 2, 3, 'wdww', 'wewewewda', 1, 2, 3, 'wdww', 'wewewewda', 1, 2, 3, 'wdww', 'wewewewda', 1, 2, 3, 'wdww', 'wewewewda', 1, 2, 3, 'wdww', 'wewewewda', 1, 2, 3, 'wdww', 'wewewewda', 1, 2, 3, 'wdww', 'wewewewda', 1, 2, 3, 'wdww', 'wewewewda', 1, 2, 3, 'wdww', 'wewewewda', 1, 2, 3, 'wdww', 'wewewewda', 1, 2, 3, 'wdww', 'wewewewda', 1, 2, 3, 'wdww', 'wewewewda', 1, 2, 3, 'wdww', 'wewewewda', 1, 2, 3, 'wdww', 'wewewewda', 1, 2, 3, 'wdww', 'wewewewda', 1, 2, 3, 'wdww', 'wewewewda', 1, 2, 3, 'wdww', 'wewewewda', 1, 2, 3, 'wdww', 'wewewewda', 1, 2, 3, 'wdww', 'wewewewda', 1, 2, 3, 'wdww', 'wewewewda', 1, 2, 3, 'wdww', 'wewewewda', 1, 2, 3, 'wdww', 'wewewewda', 1, 2, 3, 'wdww', 'wewewewda', 1, 2, 3, 'wdww', 'wewewewda', 1, 2, 3, 'wdww', 'wewewewda', 1, 2, 3, 'wdww', 'wewewewda', 1, 2, 3, 'wdww', 'wewewewda', 1, 2, 3, 'wdww', 'wewewewda', 1, 2, 3, 'wdww', 'wewewewda', 1, 2, 3, 'wdww', 'wewewewda', 1, 2, 3, 'wdww', 'wewewewda', 1, 2, 3, 'wdww', 'wewewewda', 1, 2, 3, 'wdww', 'wewewewda', 1, 2, 3, 'wdww', 'wewewewda', 1, 2, 3, 'wdww', 'wewewewda', 1, 2, 3, 'wdww', 'wewewewda', 1, 2, 3, 'wdww', 'wewewewda', 1, 2, 3, 'wdww', 'wewewewda', 1, 2, 3, 'wdww', 'wewewewda', 1, 2, 3, 'wdww', 'wewewewda', 1, 2, 3, 'wdww', 'wewewewda', 1, 2, 3, 'wdww', 'wewewewda', 1, 2, 3, 'wdww', 'wewewewda', 1, 2, 3, 'wdww', 'wewewewda', 1, 2, 3, 'wdww', 'wewewewda', 1, 2, 3, 'wdww', 'wewewewda', 1, 2, 3, 'wdww', 'wewewewda', 1, 2, 3, 'wdww', 'wewewewda', 1, 2, 3, 'wdww', 'wewewewda', 1, 2, 3, 'wdww', 'wewewewda', 1, 2, 3, 'wdww', 'wewewewda', 1, 2, 3, 'wdww', 'wewewewda', 1, 2, 3, 'wdww', 'wewewewda', 1, 2, 3, 'wdww', 'wewewewda', 1, 2, 3, 'wdww', 'wewewewda', 1, 2, 3, 'wdww', 'wewewewda', 1, 2, 3, 'wdww', 'wewewewda', 1, 2, 3, 'wdww', 'wewewewda', 1, 2, 3, 'wdww', 'wewewewda', 1, 2, 3, 'wdww', 'wewewewda', 1, 2, 3, 'wdww', 'wewewewda', 1, 2, 3, 'wdww', 'wewewewda', 1, 2, 3, 'wdww', 'wewewewda', 1, 2, 3, 'wdww', 'wewewewda', 1, 2, 3, 'wdww', 'wewewewda', 1, 2, 3, 'wdww', 'wewewewda', 1, 2, 3, 'wdww', 'wewewewda', 1, 2, 3, 'wdww', 'wewewewda', 1, 2, 3, 'wdww', 'wewewewda', 1, 2, 3, 'wdww', 'wewewewda', 1, 2, 3, 'wdww', 'wewewewda', 1, 2, 3, 'wdww', 'wewewewda', 1, 2, 3, 'wdww', 'wewewewda', 1, 2, 3, 'wdww', 'wewewewda', 1, 2, 3, 'wdww', 'wewewewda', 1, 2, 3, 'wdww', 'wewewewda', 1, 2, 3, 'wdww', 'wewewewda', 1, 2, 3, 'wdww', 'wewewewda', 1, 2, 3, 'wdww', 'wewewewda', 1, 2, 3, 'wdww', 'wewewewda', 1, 2, 3, 'wdww', 'wewewewda', 1, 2, 3, 'wdww', 'wewewewda', 1, 2, 3, 'wdww', 'wewewewda', 1, 2, 3, 'wdww', 'wewewewda', 1, 2, 3, 'wdww', 'wewewewda', 1, 2, 3, 'wdww', 'wewewewda', 1, 2, 3, 'wdww', 'wewewewda', 1, 2, 3, 'wdww', 'wewewewda', 1, 2, 3, 'wdww', 'wewewewda', 1, 2, 3, 'wdww', 'wewewewda', 1, 2, 3, 'wdww', 'wewewewda', 1, 2, 3, 'wdww', 'wewewewda', 1, 2, 3, 'wdww', 'wewewewda', 1, 2, 3, 'wdww', 'wewewewda', 1, 2, 3, 'wdww', 'wewewewda', 1, 2, 3, 'wdww', 'wewewewda', 1, 2, 3, 'wdww', 'wewewewda', 1, 2, 3, 'wdww', 'wewewewda', 1, 2, 3, 'wdww', 'wewewewda', 1, 2, 3, 'wdww', 'wewewewda', 1, 2, 3, 'wdww', 'wewewewda', 1, 2, 3, 'wdww', 'wewewewda', 1, 2, 3, 'wdww', 'wewewewda', 1, 2, 3, 'wdww', 'wewewewda', 1, 2, 3, 'wdww', 'wewewewda', 1, 2, 3, 'wdww', 'wewewewda', 1, 2, 3, 'wdww', 'wewewewda', 1, 2, 3, 'wdww', 'wewewewda', 1, 2, 3, 'wdww', 'wewewewda', 1, 2, 3, 'wdww', 'wewewewda', 1, 2, 3, 'wdww', 'wewewewda', 1, 2, 3, 'wdww', 'wewewewda', 1, 2, 3, 'wdww', 'wewewewda', 1, 2, 3, 'wdww', 'wewewewda', 1, 2, 3, 'wdww', 'wewewewda', 1, 2, 3, 'wdww', 'wewewewda', 1, 2, 3, 'wdww', 'wewewewda', 1, 2, 3, 'wdww', 'wewewewda', 1, 2, 3, 'wdww', 'wewewewda', 1, 2, 3, 'wdww', 'wewewewda', 1, 2, 3, 'wdww', 'wewewewda', 1, 2, 3, 'wdww', 'wewewewda', 1, 2, 3, 'wdww', 'wewewewda', 1, 2, 3, 'wdww', 'wewewewda', 1, 2, 3, 'wdww', 'wewewewda', 1, 2, 3, 'wdww', 'wewewewda', 1, 2, 3, 'wdww', 'wewewewda', 1, 2, 3, 'wdww', 'wewewewda', 1, 2, 3, 'wdww', 'wewewewda', 1, 2, 3, 'wdww', 'wewewewda', 1, 2, 3, 'wdww', 'wewewewda', 1, 2, 3, 'wdww', 'wewewewda', 1, 2, 3, 'wdww', 'wewewewda', 1, 2, 3, 'wdww', 'wewewewda', 1, 2, 3, 'wdww', 'wewewewda', 1, 2, 3, 'wdww', 'wewewewda', 1, 2, 3, 'wdww', 'wewewewda', 1, 2, 3, 'wdww', 'wewewewda', 1, 2, 3, 'wdww', 'wewewewda', 1, 2, 3, 'wdww', 'wewewewda', 1, 2, 3, 'wdww', 'wewewewda', 1, 2, 3, 'wdww', 'wewewewda', 1, 2, 3, 'wdww', 'wewewewda', 1, 2, 3, 'wdww', 'wewewewda', 1, 2, 3, 'wdww', 'wewewewda', 1, 2, 3, 'wdww', 'wewewewda', 1, 2, 3, 'wdww', 'wewewewda', 1, 2, 3, 'wdww', 'wewewewda', 1, 2, 3, 'wdww', 'wewewewda', 1, 2, 3, 'wdww', 'wewewewda', 1, 2, 3, 'wdww', 'wewewewda', 1, 2, 3, 'wdww', 'wewewewda', 1, 2, 3, 'wdww', 'wewewewda', 1, 2, 3, 'wdww', 'wewewewda', 1, 2, 3, 'wdww', 'wewewewda', 1, 2, 3, 'wdww', 'wewewewda', 1, 2, 3, 'wdww', 'wewewewda', 1, 2, 3, 'wdww', 'wewewewda', 1, 2, 3, 'wdww', 'wewewewda', 1, 2, 3, 'wdww', 'wewewewda', 1, 2, 3, 'wdww', 'wewewewda', 1, 2, 3, 'wdww', 'wewewewda', 1, 2, 3, 'wdww', 'wewewewda', 1, 2, 3, 'wdww', 'wewewewda', 1, 2, 3, 'wdww', 'wewewewda', 1, 2, 3, 'wdww', 'wewewewda', 1, 2, 3, 'wdww', 'wewewewda', 1, 2, 3, 'wdww', 'wewewewda', 1, 2, 3, 'wdww', 'wewewewda', 1, 2, 3, 'wdww', 'wewewewda', 1, 2, 3, 'wdww', 'wewewewda', 1, 2, 3, 'wdww', 'wewewewda', 1, 2, 3, 'wdww', 'wewewewda', 1, 2, 3, 'wdww', 'wewewewda', 1, 2, 3, 'wdww', 'wewewewda', 1, 2, 3, 'wdww', 'wewewewda', 1, 2, 3, 'wdww', 'wewewewda', 1, 2, 3, 'wdww', 'wewewewda', 1, 2, 3, 'wdww', 'wewewewda', 1, 2, 3, 'wdww', 'wewewewda', 1, 2, 3, 'wdww', 'wewewewda', 1, 2, 3, 'wdww', 'wewewewda', 1, 2, 3, 'wdww', 'wewewewda', 1, 2, 3, 'wdww', 'wewewewda', 1, 2, 3, 'wdww', 'wewewewda', 1, 2, 3, 'wdww', 'wewewewda', 1, 2, 3, 'wdww', 'wewewewda', 1, 2, 3, 'wdww', 'wewewewda', 1, 2, 3, 'wdww', 'wewewewda', 1, 2, 3, 'wdww', 'wewewewda', 1, 2, 3, 'wdww', 'wewewewda', 1, 2, 3, 'wdww', 'wewewewda', 1, 2, 3, 'wdww', 'wewewewda', 1, 2, 3, 'wdww', 'wewewewda', 1, 2, 3, 'wdww', 'wewewewda', 1, 2, 3, 'wdww', 'wewewewda', 1, 2, 3, 'wdww', 'wewewewda', 1, 2, 3, 'wdww', 'wewewewda', 1, 2, 3, 'wdww', 'wewewewda', 1, 2, 3, 'wdww', 'wewewewda', 1, 2, 3, 'wdww', 'wewewewda', 1, 2, 3, 'wdww', 'wewewewda', 1, 2, 3, 'wdww', 'wewewewda', 1, 2, 3, 'wdww', 'wewewewda', 1, 2, 3, 'wdww', 'wewewewda', 1, 2, 3, 'wdww', 'wewewewda', 1, 2, 3, 'wdww', 'wewewewda', 1, 2, 3, 'wdww', 'wewewewda', 1, 2, 3, 'wdww', 'wewewewda', 1, 2, 3, 'wdww', 'wewewewda', 1, 2, 3, 'wdww', 'wewewewda', 1, 2, 3, 'wdww', 'wewewewda', 1, 2, 3, 'wdww', 'wewewewda', 1, 2, 3, 'wdww', 'wewewewda', 1, 2, 3, 'wdww', 'wewewewda', 1, 2, 3, 'wdww', 'wewewewda', 1, 2, 3, 'wdww', 'wewewewda', 1, 2, 3, 'wdww', 'wewewewda', 1, 2, 3, 'wdww', 'wewewewda', 1, 2, 3, 'wdww', 'wewewewda', 1, 2, 3, 'wdww', 'wewewewda', 1, 2, 3, 'wdww', 'wewewewda', 1, 2, 3, 'wdww', 'wewewewda', 1, 2, 3, 'wdww', 'wewewewda', 1, 2, 3, 'wdww', 'wewewewda', 1, 2, 3, 'wdww', 'wewewewda', 1, 2, 3, 'wdww', 'wewewewda', 1, 2, 3, 'wdww', 'wewewewda', 1, 2, 3, 'wdww', 'wewewewda', 1, 2, 3, 'wdww', 'wewewewda', 1, 2, 3, 'wdww', 'wewewewda', 1, 2, 3, 'wdww', 'wewewewda', 1, 2, 3, 'wdww', 'wewewewda', 1, 2, 3, 'wdww', 'wewewewda', 1, 2, 3, 'wdww', 'wewewewda', 1, 2, 3, 'wdww', 'wewewewda', 1, 2, 3, 'wdww', 'wewewewda', 1, 2, 3, 'wdww', 'wewewewda', 1, 2, 3, 'wdww', 'wewewewda', 1, 2, 3, 'wdww', 'wewewewda', 1, 2, 3, 'wdww', 'wewewewda', 1, 2, 3, 'wdww', 'wewewewda', 1, 2, 3, 'wdww', 'wewewewda', 1, 2, 3, 'wdww', 'wewewewda', 1, 2, 3, 'wdww', 'wewewewda', 1, 2, 3, 'wdww', 'wewewewda', 1, 2, 3, 'wdww', 'wewewewda', 1, 2, 3, 'wdww', 'wewewewda', 1, 2, 3, 'wdww', 'wewewewda', 1, 2, 3, 'wdww', 'wewewewda', 1, 2, 3, 'wdww', 'wewewewda', 1, 2, 3, 'wdww', 'wewewewda', 1, 2, 3, 'wdww', 'wewewewda', 1, 2, 3, 'wdww', 'wewewewda', 1, 2, 3, 'wdww', 'wewewewda', 1, 2, 3, 'wdww', 'wewewewda', 1, 2, 3, 'wdww', 'wewewewda', 1, 2, 3, 'wdww', 'wewewewda', 1, 2, 3, 'wdww', 'wewewewda', 1, 2, 3, 'wdww', 'wewewewda', 1, 2, 3, 'wdww', 'wewewewda', 1, 2, 3, 'wdww', 'wewewewda', 1, 2, 3, 'wdww', 'wewewewda', 1, 2, 3, 'wdww', 'wewewewda', 1, 2, 3, 'wdww', 'wewewewda', 1, 2, 3, 'wdww', 'wewewewda', 1, 2, 3, 'wdww', 'wewewewda', 1, 2, 3, 'wdww', 'wewewewda', 1, 2, 3, 'wdww', 'wewewewda', 1, 2, 3, 'wdww', 'wewewewda', 1, 2, 3, 'wdww', 'wewewewda', 1, 2, 3, 'wdww', 'wewewewda', 1, 2, 3, 'wdww', 'wewewewda', 1, 2, 3, 'wdww', 'wewewewda', 1, 2, 3, 'wdww', 'wewewewda', 1, 2, 3, 'wdww', 'wewewewda', 1, 2, 3, 'wdww', 'wewewewda', 1, 2, 3, 'wdww', 'wewewewda', 1, 2, 3, 'wdww', 'wewewewda', 1, 2, 3, 'wdww', 'wewewewda', 1, 2, 3, 'wdww', 'wewewewda', 1, 2, 3, 'wdww', 'wewewewda', 1, 2, 3, 'wdww', 'wewewewda', 1, 2, 3, 'wdww', 'wewewewda', 1, 2, 3, 'wdww', 'wewewewda', 1, 2, 3, 'wdww', 'wewewewda', 1, 2, 3, 'wdww', 'wewewewda', 1, 2, 3, 'wdww', 'wewewewda', 1, 2, 3, 'wdww', 'wewewewda', 1, 2, 3, 'wdww', 'wewewewda', 1, 2, 3, 'wdww', 'wewewewda', 1, 2, 3, 'wdww', 'wewewewda', 1, 2, 3, 'wdww', 'wewewewda', 1, 2, 3, 'wdww', 'wewewewda', 1, 2, 3, 'wdww', 'wewewewda', 1, 2, 3, 'wdww', 'wewewewda', 1, 2, 3, 'wdww', 'wewewewda', 1, 2, 3, 'wdww', 'wewewewda', 1, 2, 3, 'wdww', 'wewewewda', 1, 2, 3, 'wdww', 'wewewewda', 1, 2, 3, 'wdww', 'wewewewda', 1, 2, 3, 'wdww', 'wewewewda', 1, 2, 3, 'wdww', 'wewewewda', 1, 2, 3, 'wdww', 'wewewewda', 1, 2, 3, 'wdww', 'wewewewda', 1, 2, 3, 'wdww', 'wewewewda', 1, 2, 3, 'wdww', 'wewewewda', 1, 2, 3, 'wdww', 'wewewewda', 1, 2, 3, 'wdww', 'wewewewda', 1, 2, 3, 'wdww', 'wewewewda', 1, 2, 3, 'wdww', 'wewewewda', 1, 2, 3, 'wdww', 'wewewewda', 1, 2, 3, 'wdww', 'wewewewda', 1, 2, 3, 'wdww', 'wewewewda', 1, 2, 3, 'wdww', 'wewewewda', 1, 2, 3, 'wdww', 'wewewewda', 1, 2, 3, 'wdww', 'wewewewda', 1, 2, 3, 'wdww', 'wewewewda', 1, 2, 3, 'wdww', 'wewewewda', 1, 2, 3, 'wdww', 'wewewewda', 1, 2, 3, 'wdww', 'wewewewda', 1, 2, 3, 'wdww', 'wewewewda', 1, 2, 3, 'wdww', 'wewewewda', 1, 2, 3, 'wdww', 'wewewewda', 1, 2, 3, 'wdww', 'wewewewda', 1, 2, 3, 'wdww', 'wewewewda', 1, 2, 3, 'wdww', 'wewewewda', 1, 2, 3, 'wdww', 'wewewewda', 1, 2, 3, 'wdww', 'wewewewda', 1, 2, 3, 'wdww', 'wewewewda', 1, 2, 3, 'wdww', 'wewewewda', 1, 2, 3, 'wdww', 'wewewewda', 1, 2, 3, 'wdww', 'wewewewda', 1, 2, 3, 'wdww', 'wewewewda', 1, 2, 3, 'wdww', 'wewewewda', 1, 2, 3, 'wdww', 'wewewewda', 1, 2, 3, 'wdww', 'wewewewda', 1, 2, 3, 'wdww', 'wewewewda', 1, 2, 3, 'wdww', 'wewewewda', 1, 2, 3, 'wdww', 'wewewewda', 1, 2, 3, 'wdww', 'wewewewda', 1, 2, 3, 'wdww', 'wewewewda', 1, 2, 3, 'wdww', 'wewewewda', 1, 2, 3, 'wdww', 'wewewewda', 1, 2, 3, 'wdww', 'wewewewda', 1, 2, 3, 'wdww', 'wewewewda', 1, 2, 3, 'wdww', 'wewewewda', 1, 2, 3, 'wdww', 'wewewewda', 1, 2, 3, 'wdww', 'wewewewda', 1, 2, 3, 'wdww', 'wewewewda', 1, 2, 3, 'wdww', 'wewewewda', 1, 2, 3, 'wdww', 'wewewewda', 1, 2, 3, 'wdww', 'wewewewda', 1, 2, 3, 'wdww', 'wewewewda', 1, 2, 3, 'wdww', 'wewewewda', 1, 2, 3, 'wdww', 'wewewewda', 1, 2, 3, 'wdww', 'wewewewda', 1, 2, 3, 'wdww', 'wewewewda', 1, 2, 3, 'wdww', 'wewewewda', 1, 2, 3, 'wdww', 'wewewewda', 1, 2, 3, 'wdww', 'wewewewda', 1, 2, 3, 'wdww', 'wewewewda', 1, 2, 3, 'wdww', 'wewewewda', 1, 2, 3, 'wdww', 'wewewewda', 1, 2, 3, 'wdww', 'wewewewda', 1, 2, 3, 'wdww', 'wewewewda', 1, 2, 3, 'wdww', 'wewewewda', 1, 2, 3, 'wdww', 'wewewewda', 1, 2, 3, 'wdww', 'wewewewda', 1, 2, 3, 'wdww', 'wewewewda', 1, 2, 3, 'wdww', 'wewewewda', 1, 2, 3, 'wdww', 'wewewewda', 1, 2, 3, 'wdww', 'wewewewda', 1, 2, 3, 'wdww', 'wewewewda', 1, 2, 3, 'wdww', 'wewewewda', 1, 2, 3, 'wdww', 'wewewewda', 1, 2, 3, 'wdww', 'wewewewda', 1, 2, 3, 'wdww', 'wewewewda', 1, 2, 3, 'wdww', 'wewewewda', 1, 2, 3, 'wdww', 'wewewewda', 1, 2, 3, 'wdww', 'wewewewda', 1, 2, 3, 'wdww', 'wewewewda', 1, 2, 3, 'wdww', 'wewewewda', 1, 2, 3, 'wdww', 'wewewewda', 1, 2, 3, 'wdww', 'wewewewda', 1, 2, 3, 'wdww', 'wewewewda', 1, 2, 3, 'wdww', 'wewewewda', 1, 2, 3, 'wdww', 'wewewewda', 1, 2, 3, 'wdww', 'wewewewda', 1, 2, 3, 'wdww', 'wewewewda', 1, 2, 3, 'wdww', 'wewewewda', 1, 2, 3, 'wdww', 'wewewewda', 1, 2, 3, 'wdww', 'wewewewda', 1, 2, 3, 'wdww', 'wewewewda', 1, 2, 3, 'wdww', 'wewewewda', 1, 2, 3, 'wdww', 'wewewewda', 1, 2, 3, 'wdww', 'wewewewda', 1, 2, 3, 'wdww', 'wewewewda', 1, 2, 3, 'wdww', 'wewewewda', 1, 2, 3, 'wdww', 'wewewewda', 1, 2, 3, 'wdww', 'wewewewda', 1, 2, 3, 'wdww', 'wewewewda', 1, 2, 3, 'wdww', 'wewewewda', 1, 2, 3, 'wdww', 'wewewewda', 1, 2, 3, 'wdww', 'wewewewda', 1, 2, 3, 'wdww', 'wewewewda', 1, 2, 3, 'wdww', 'wewewewda', 1, 2, 3, 'wdww', 'wewewewda')\n",
      "1\n"
     ]
    }
   ],
   "source": [
    "t = t+t\n",
    "print(t)\n",
    "print(t[0])"
   ]
  },
  {
   "cell_type": "code",
   "execution_count": 82,
   "metadata": {},
   "outputs": [
    {
     "name": "stdout",
     "output_type": "stream",
     "text": [
      "[1, 2, 3, 'wdww', 'wewewewda', 1, 2, 3, 'wdww', 'wewewewda', 1, 2, 3, 'wdww', 'wewewewda', 1, 2, 3, 'wdww', 'wewewewda', 1, 2, 3, 'wdww', 'wewewewda', 1, 2, 3, 'wdww', 'wewewewda', 1, 2, 3, 'wdww', 'wewewewda', 1, 2, 3, 'wdww', 'wewewewda', 1, 2, 3, 'wdww', 'wewewewda', 1, 2, 3, 'wdww', 'wewewewda', 1, 2, 3, 'wdww', 'wewewewda', 1, 2, 3, 'wdww', 'wewewewda', 1, 2, 3, 'wdww', 'wewewewda', 1, 2, 3, 'wdww', 'wewewewda', 1, 2, 3, 'wdww', 'wewewewda', 1, 2, 3, 'wdww', 'wewewewda', 1, 2, 3, 'wdww', 'wewewewda', 1, 2, 3, 'wdww', 'wewewewda', 1, 2, 3, 'wdww', 'wewewewda', 1, 2, 3, 'wdww', 'wewewewda', 1, 2, 3, 'wdww', 'wewewewda', 1, 2, 3, 'wdww', 'wewewewda', 1, 2, 3, 'wdww', 'wewewewda', 1, 2, 3, 'wdww', 'wewewewda', 1, 2, 3, 'wdww', 'wewewewda', 1, 2, 3, 'wdww', 'wewewewda', 1, 2, 3, 'wdww', 'wewewewda', 1, 2, 3, 'wdww', 'wewewewda', 1, 2, 3, 'wdww', 'wewewewda', 1, 2, 3, 'wdww', 'wewewewda', 1, 2, 3, 'wdww', 'wewewewda', 1, 2, 3, 'wdww', 'wewewewda', 1, 2, 3, 'wdww', 'wewewewda', 1, 2, 3, 'wdww', 'wewewewda', 1, 2, 3, 'wdww', 'wewewewda', 1, 2, 3, 'wdww', 'wewewewda', 1, 2, 3, 'wdww', 'wewewewda', 1, 2, 3, 'wdww', 'wewewewda', 1, 2, 3, 'wdww', 'wewewewda', 1, 2, 3, 'wdww', 'wewewewda', 1, 2, 3, 'wdww', 'wewewewda', 1, 2, 3, 'wdww', 'wewewewda', 1, 2, 3, 'wdww', 'wewewewda', 1, 2, 3, 'wdww', 'wewewewda', 1, 2, 3, 'wdww', 'wewewewda', 1, 2, 3, 'wdww', 'wewewewda', 1, 2, 3, 'wdww', 'wewewewda', 1, 2, 3, 'wdww', 'wewewewda', 1, 2, 3, 'wdww', 'wewewewda', 1, 2, 3, 'wdww', 'wewewewda', 1, 2, 3, 'wdww', 'wewewewda', 1, 2, 3, 'wdww', 'wewewewda', 1, 2, 3, 'wdww', 'wewewewda', 1, 2, 3, 'wdww', 'wewewewda', 1, 2, 3, 'wdww', 'wewewewda', 1, 2, 3, 'wdww', 'wewewewda', 1, 2, 3, 'wdww', 'wewewewda', 1, 2, 3, 'wdww', 'wewewewda', 1, 2, 3, 'wdww', 'wewewewda', 1, 2, 3, 'wdww', 'wewewewda', 1, 2, 3, 'wdww', 'wewewewda', 1, 2, 3, 'wdww', 'wewewewda', 1, 2, 3, 'wdww', 'wewewewda', 1, 2, 3, 'wdww', 'wewewewda', 1, 2, 3, 'wdww', 'wewewewda', 1, 2, 3, 'wdww', 'wewewewda', 1, 2, 3, 'wdww', 'wewewewda', 1, 2, 3, 'wdww', 'wewewewda', 1, 2, 3, 'wdww', 'wewewewda', 1, 2, 3, 'wdww', 'wewewewda', 1, 2, 3, 'wdww', 'wewewewda', 1, 2, 3, 'wdww', 'wewewewda', 1, 2, 3, 'wdww', 'wewewewda', 1, 2, 3, 'wdww', 'wewewewda', 1, 2, 3, 'wdww', 'wewewewda', 1, 2, 3, 'wdww', 'wewewewda', 1, 2, 3, 'wdww', 'wewewewda', 1, 2, 3, 'wdww', 'wewewewda', 1, 2, 3, 'wdww', 'wewewewda', 1, 2, 3, 'wdww', 'wewewewda', 1, 2, 3, 'wdww', 'wewewewda', 1, 2, 3, 'wdww', 'wewewewda', 1, 2, 3, 'wdww', 'wewewewda', 1, 2, 3, 'wdww', 'wewewewda', 1, 2, 3, 'wdww', 'wewewewda', 1, 2, 3, 'wdww', 'wewewewda', 1, 2, 3, 'wdww', 'wewewewda', 1, 2, 3, 'wdww', 'wewewewda', 1, 2, 3, 'wdww', 'wewewewda', 1, 2, 3, 'wdww', 'wewewewda', 1, 2, 3, 'wdww', 'wewewewda', 1, 2, 3, 'wdww', 'wewewewda', 1, 2, 3, 'wdww', 'wewewewda', 1, 2, 3, 'wdww', 'wewewewda', 1, 2, 3, 'wdww', 'wewewewda', 1, 2, 3, 'wdww', 'wewewewda', 1, 2, 3, 'wdww', 'wewewewda', 1, 2, 3, 'wdww', 'wewewewda', 1, 2, 3, 'wdww', 'wewewewda', 1, 2, 3, 'wdww', 'wewewewda', 1, 2, 3, 'wdww', 'wewewewda', 1, 2, 3, 'wdww', 'wewewewda', 1, 2, 3, 'wdww', 'wewewewda', 1, 2, 3, 'wdww', 'wewewewda', 1, 2, 3, 'wdww', 'wewewewda', 1, 2, 3, 'wdww', 'wewewewda', 1, 2, 3, 'wdww', 'wewewewda', 1, 2, 3, 'wdww', 'wewewewda', 1, 2, 3, 'wdww', 'wewewewda', 1, 2, 3, 'wdww', 'wewewewda', 1, 2, 3, 'wdww', 'wewewewda', 1, 2, 3, 'wdww', 'wewewewda', 1, 2, 3, 'wdww', 'wewewewda', 1, 2, 3, 'wdww', 'wewewewda', 1, 2, 3, 'wdww', 'wewewewda', 1, 2, 3, 'wdww', 'wewewewda', 1, 2, 3, 'wdww', 'wewewewda', 1, 2, 3, 'wdww', 'wewewewda', 1, 2, 3, 'wdww', 'wewewewda', 1, 2, 3, 'wdww', 'wewewewda', 1, 2, 3, 'wdww', 'wewewewda', 1, 2, 3, 'wdww', 'wewewewda', 1, 2, 3, 'wdww', 'wewewewda', 1, 2, 3, 'wdww', 'wewewewda', 1, 2, 3, 'wdww', 'wewewewda', 1, 2, 3, 'wdww', 'wewewewda', 1, 2, 3, 'wdww', 'wewewewda', 1, 2, 3, 'wdww', 'wewewewda', 1, 2, 3, 'wdww', 'wewewewda', 1, 2, 3, 'wdww', 'wewewewda', 1, 2, 3, 'wdww', 'wewewewda', 1, 2, 3, 'wdww', 'wewewewda', 1, 2, 3, 'wdww', 'wewewewda', 1, 2, 3, 'wdww', 'wewewewda', 1, 2, 3, 'wdww', 'wewewewda', 1, 2, 3, 'wdww', 'wewewewda', 1, 2, 3, 'wdww', 'wewewewda', 1, 2, 3, 'wdww', 'wewewewda', 1, 2, 3, 'wdww', 'wewewewda', 1, 2, 3, 'wdww', 'wewewewda', 1, 2, 3, 'wdww', 'wewewewda', 1, 2, 3, 'wdww', 'wewewewda', 1, 2, 3, 'wdww', 'wewewewda', 1, 2, 3, 'wdww', 'wewewewda', 1, 2, 3, 'wdww', 'wewewewda', 1, 2, 3, 'wdww', 'wewewewda', 1, 2, 3, 'wdww', 'wewewewda', 1, 2, 3, 'wdww', 'wewewewda', 1, 2, 3, 'wdww', 'wewewewda', 1, 2, 3, 'wdww', 'wewewewda', 1, 2, 3, 'wdww', 'wewewewda', 1, 2, 3, 'wdww', 'wewewewda', 1, 2, 3, 'wdww', 'wewewewda', 1, 2, 3, 'wdww', 'wewewewda', 1, 2, 3, 'wdww', 'wewewewda', 1, 2, 3, 'wdww', 'wewewewda', 1, 2, 3, 'wdww', 'wewewewda', 1, 2, 3, 'wdww', 'wewewewda', 1, 2, 3, 'wdww', 'wewewewda', 1, 2, 3, 'wdww', 'wewewewda', 1, 2, 3, 'wdww', 'wewewewda', 1, 2, 3, 'wdww', 'wewewewda', 1, 2, 3, 'wdww', 'wewewewda', 1, 2, 3, 'wdww', 'wewewewda', 1, 2, 3, 'wdww', 'wewewewda', 1, 2, 3, 'wdww', 'wewewewda', 1, 2, 3, 'wdww', 'wewewewda', 1, 2, 3, 'wdww', 'wewewewda', 1, 2, 3, 'wdww', 'wewewewda', 1, 2, 3, 'wdww', 'wewewewda', 1, 2, 3, 'wdww', 'wewewewda', 1, 2, 3, 'wdww', 'wewewewda', 1, 2, 3, 'wdww', 'wewewewda', 1, 2, 3, 'wdww', 'wewewewda', 1, 2, 3, 'wdww', 'wewewewda', 1, 2, 3, 'wdww', 'wewewewda', 1, 2, 3, 'wdww', 'wewewewda', 1, 2, 3, 'wdww', 'wewewewda', 1, 2, 3, 'wdww', 'wewewewda', 1, 2, 3, 'wdww', 'wewewewda', 1, 2, 3, 'wdww', 'wewewewda', 1, 2, 3, 'wdww', 'wewewewda', 1, 2, 3, 'wdww', 'wewewewda', 1, 2, 3, 'wdww', 'wewewewda', 1, 2, 3, 'wdww', 'wewewewda', 1, 2, 3, 'wdww', 'wewewewda', 1, 2, 3, 'wdww', 'wewewewda', 1, 2, 3, 'wdww', 'wewewewda', 1, 2, 3, 'wdww', 'wewewewda', 1, 2, 3, 'wdww', 'wewewewda', 1, 2, 3, 'wdww', 'wewewewda', 1, 2, 3, 'wdww', 'wewewewda', 1, 2, 3, 'wdww', 'wewewewda', 1, 2, 3, 'wdww', 'wewewewda', 1, 2, 3, 'wdww', 'wewewewda', 1, 2, 3, 'wdww', 'wewewewda', 1, 2, 3, 'wdww', 'wewewewda', 1, 2, 3, 'wdww', 'wewewewda', 1, 2, 3, 'wdww', 'wewewewda', 1, 2, 3, 'wdww', 'wewewewda', 1, 2, 3, 'wdww', 'wewewewda', 1, 2, 3, 'wdww', 'wewewewda', 1, 2, 3, 'wdww', 'wewewewda', 1, 2, 3, 'wdww', 'wewewewda', 1, 2, 3, 'wdww', 'wewewewda', 1, 2, 3, 'wdww', 'wewewewda', 1, 2, 3, 'wdww', 'wewewewda', 1, 2, 3, 'wdww', 'wewewewda', 1, 2, 3, 'wdww', 'wewewewda', 1, 2, 3, 'wdww', 'wewewewda', 1, 2, 3, 'wdww', 'wewewewda', 1, 2, 3, 'wdww', 'wewewewda', 1, 2, 3, 'wdww', 'wewewewda', 1, 2, 3, 'wdww', 'wewewewda', 1, 2, 3, 'wdww', 'wewewewda', 1, 2, 3, 'wdww', 'wewewewda', 1, 2, 3, 'wdww', 'wewewewda', 1, 2, 3, 'wdww', 'wewewewda', 1, 2, 3, 'wdww', 'wewewewda', 1, 2, 3, 'wdww', 'wewewewda', 1, 2, 3, 'wdww', 'wewewewda', 1, 2, 3, 'wdww', 'wewewewda', 1, 2, 3, 'wdww', 'wewewewda', 1, 2, 3, 'wdww', 'wewewewda', 1, 2, 3, 'wdww', 'wewewewda', 1, 2, 3, 'wdww', 'wewewewda', 1, 2, 3, 'wdww', 'wewewewda', 1, 2, 3, 'wdww', 'wewewewda', 1, 2, 3, 'wdww', 'wewewewda', 1, 2, 3, 'wdww', 'wewewewda', 1, 2, 3, 'wdww', 'wewewewda', 1, 2, 3, 'wdww', 'wewewewda', 1, 2, 3, 'wdww', 'wewewewda', 1, 2, 3, 'wdww', 'wewewewda', 1, 2, 3, 'wdww', 'wewewewda', 1, 2, 3, 'wdww', 'wewewewda', 1, 2, 3, 'wdww', 'wewewewda', 1, 2, 3, 'wdww', 'wewewewda', 1, 2, 3, 'wdww', 'wewewewda', 1, 2, 3, 'wdww', 'wewewewda', 1, 2, 3, 'wdww', 'wewewewda', 1, 2, 3, 'wdww', 'wewewewda', 1, 2, 3, 'wdww', 'wewewewda', 1, 2, 3, 'wdww', 'wewewewda', 1, 2, 3, 'wdww', 'wewewewda', 1, 2, 3, 'wdww', 'wewewewda', 1, 2, 3, 'wdww', 'wewewewda', 1, 2, 3, 'wdww', 'wewewewda', 1, 2, 3, 'wdww', 'wewewewda', 1, 2, 3, 'wdww', 'wewewewda', 1, 2, 3, 'wdww', 'wewewewda', 1, 2, 3, 'wdww', 'wewewewda', 1, 2, 3, 'wdww', 'wewewewda', 1, 2, 3, 'wdww', 'wewewewda', 1, 2, 3, 'wdww', 'wewewewda', 1, 2, 3, 'wdww', 'wewewewda']\n",
      "[]\n"
     ]
    }
   ],
   "source": [
    "l = list(t)\n",
    "print(l)\n",
    "l.clear()\n",
    "print(l*2)"
   ]
  },
  {
   "cell_type": "markdown",
   "metadata": {},
   "source": [
    "## Sets"
   ]
  },
  {
   "cell_type": "code",
   "execution_count": 87,
   "metadata": {},
   "outputs": [
    {
     "name": "stdout",
     "output_type": "stream",
     "text": [
      "{1, 2, 33, 4, 5, 12, 45}\n"
     ]
    }
   ],
   "source": [
    "s=set([1,2,12,2,2,1,2,33,2,33,45,4,5,45])\n",
    "print(s)"
   ]
  },
  {
   "cell_type": "code",
   "execution_count": 88,
   "metadata": {},
   "outputs": [
    {
     "name": "stdout",
     "output_type": "stream",
     "text": [
      "{1, 2, 33, 4, 5, 12, 45, 123}\n"
     ]
    }
   ],
   "source": [
    "s.add(123)\n",
    "print(s)"
   ]
  },
  {
   "cell_type": "code",
   "execution_count": 89,
   "metadata": {},
   "outputs": [],
   "source": [
    "s2=set([12,2,3,4,11,232,343,55])"
   ]
  },
  {
   "cell_type": "code",
   "execution_count": 90,
   "metadata": {},
   "outputs": [
    {
     "name": "stdout",
     "output_type": "stream",
     "text": [
      "{2, 4, 12}\n"
     ]
    }
   ],
   "source": [
    "print(s&s2)"
   ]
  },
  {
   "cell_type": "code",
   "execution_count": 91,
   "metadata": {},
   "outputs": [
    {
     "name": "stdout",
     "output_type": "stream",
     "text": [
      "{1, 2, 33, 4, 5, 3, 232, 11, 12, 45, 55, 123, 343}\n"
     ]
    }
   ],
   "source": [
    "print(s|s2)"
   ]
  },
  {
   "cell_type": "code",
   "execution_count": 92,
   "metadata": {},
   "outputs": [
    {
     "name": "stdout",
     "output_type": "stream",
     "text": [
      "{2, 4, 12}\n"
     ]
    }
   ],
   "source": [
    "print(s.intersection(s2))"
   ]
  },
  {
   "cell_type": "code",
   "execution_count": 94,
   "metadata": {},
   "outputs": [
    {
     "name": "stdout",
     "output_type": "stream",
     "text": [
      "{1, 2, 5, 6}\n"
     ]
    }
   ],
   "source": [
    "a1={1,2,3,4}\n",
    "a2={3,4,5,6}\n",
    "print(a1^a2)\n",
    "## prints only those elements which are not in the other set"
   ]
  },
  {
   "cell_type": "code",
   "execution_count": null,
   "metadata": {},
   "outputs": [],
   "source": []
  }
 ],
 "metadata": {
  "kernelspec": {
   "display_name": "Python 3",
   "language": "python",
   "name": "python3"
  },
  "language_info": {
   "codemirror_mode": {
    "name": "ipython",
    "version": 3
   },
   "file_extension": ".py",
   "mimetype": "text/x-python",
   "name": "python",
   "nbconvert_exporter": "python",
   "pygments_lexer": "ipython3",
   "version": "3.7.3"
  }
 },
 "nbformat": 4,
 "nbformat_minor": 2
}
